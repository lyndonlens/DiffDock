{
 "cells": [
  {
   "cell_type": "code",
   "execution_count": 183,
   "id": "193e9f9f",
   "metadata": {
    "scrolled": true
   },
   "outputs": [
    {
     "name": "stdout",
     "output_type": "stream",
     "text": [
      "residue number: 351\n",
      "atom number:  2741\n"
     ]
    },
    {
     "name": "stderr",
     "output_type": "stream",
     "text": [
      "C:\\Users\\admin\\anaconda3\\envs\\chem\\lib\\site-packages\\Bio\\PDB\\PDBParser.py:399: PDBConstructionWarning: Ignoring unrecognized record 'END' at line 2744\n",
      "  PDBConstructionWarning,\n"
     ]
    }
   ],
   "source": [
    "from Bio.PDB import PDBParser\n",
    "file = r\"C:\\Users\\admin\\Downloads\\4v24_rec_noH.pdb\"\n",
    "parser = PDBParser(PERMISSIVE=1)\n",
    "\n",
    "structure = parser.get_structure('4v24', file)\n",
    "from Bio.PDB.Selection import unfold_entities\n",
    "\n",
    "model = structure[0]\n",
    "model.get_full_id()\n",
    "\n",
    "residue_list = unfold_entities(model, 'R')\n",
    "print('residue number:', len(residue_list))\n",
    "from Bio.PDB.NeighborSearch import NeighborSearch\n",
    "from Bio.PDB.Selection import unfold_entities\n",
    "atoms = unfold_entities(structure, 'A')\n",
    "print('atom number: ', len(atoms))"
   ]
  },
  {
   "cell_type": "code",
   "execution_count": 171,
   "id": "17a1f2c1",
   "metadata": {},
   "outputs": [
    {
     "name": "stdout",
     "output_type": "stream",
     "text": [
      "93 PRO\n",
      "94 ARG\n",
      "95 GLY\n",
      "96 VAL\n",
      "97 LEU\n",
      "98 PRO\n",
      "99 ARG\n",
      "100 PRO\n",
      "101 CYS\n",
      "102 ARG\n",
      "103 VAL\n",
      "104 LEU\n",
      "105 VAL\n",
      "106 LEU\n",
      "107 LEU\n",
      "108 ASN\n",
      "109 PRO\n"
     ]
    }
   ],
   "source": [
    "for r in residue_list:\n",
    "    print(r.get_id()[1], r.get_resname())\n",
    "    "
   ]
  },
  {
   "cell_type": "code",
   "execution_count": 181,
   "id": "9490f029",
   "metadata": {
    "scrolled": true
   },
   "outputs": [
    {
     "name": "stdout",
     "output_type": "stream",
     "text": [
      "<Vector 29.89, 29.06, 43.18>\n",
      "<Vector 30.05, 29.27, 44.65>\n",
      "<Vector 30.08, 30.40, 45.09>\n",
      "<Vector 30.10, 28.18, 45.38>\n",
      "<Vector 15.34, 26.05, 26.95>\n",
      "<Vector 16.94, 26.92, 27.07>\n",
      "<Vector 26.71, 25.96, 18.42>\n",
      "<Vector 26.96, 24.66, 18.88>\n",
      "<Vector 18.94, 44.01, 30.49>\n",
      "<Vector 18.82, 45.33, 30.98>\n",
      "<Vector 1.90, 31.31, 60.32>\n",
      "<Vector 3.11, 31.31, 61.27>\n",
      "<Vector 2.97, 30.25, 62.35>\n",
      "<Vector 4.44, 31.19, 60.52>\n",
      "<Vector -2.30, 39.78, 58.14>\n",
      "<Vector -2.82, 41.17, 58.41>\n",
      "<Vector -3.69, 41.68, 57.74>\n",
      "<Vector -2.24, 41.76, 59.43>\n",
      "<Vector 7.45, 46.73, 48.31>\n",
      "<Vector 6.27, 47.07, 47.59>\n",
      "<Vector 8.06, 29.22, 62.65>\n",
      "<Vector 7.28, 30.30, 62.19>\n",
      "<Vector 18.31, 19.96, 54.65>\n",
      "<Vector 17.04, 19.87, 54.08>\n"
     ]
    }
   ],
   "source": [
    "for a in atoms:\n",
    "    if a.get_occupancy() < 1.0:\n",
    "        print(a.get_vector())"
   ]
  },
  {
   "cell_type": "code",
   "execution_count": 184,
   "id": "be8c5acf",
   "metadata": {
    "scrolled": false
   },
   "outputs": [
    {
     "name": "stdout",
     "output_type": "stream",
     "text": [
      "PRGVLPRPCRVLVLLNPRGGKGKALQLFRSHVQPLLAEAEISFTLMLTERRNHARELVRSEELGRWDALVVMSGDGLMHEVVNGLMERPDWETAIQKPLCSLPAGSGNALAASLNHYAGYEQVTNEDLLTNCTLLLCRRLLSPMNLLSLHTASGLRLFSVLSLAWGFIADVDLESEKYRRLGEMRFTLGTFLRLAALRTYRGRLAYLPVGRVGSKTPAS\n",
      "GPVDAHLVPLEEPVPSHWTVVPDEDFVLVLALLHSHLGSEMFAAPMGRCAAGVMHLFYVRAGVSRAMLLRLFLAMEKGRHMEYECPYLVYVPVVAFRLEPKDGKGVFAVDGELMVSEAVQGQVHPNYFWMVS\n",
      "PRGVLPRPCRVLVLLNPRGGKGKALQLFRSHVQPLLAEAEISFTLMLTERRNHARELVRSEELGRWDALVVMSGDGLMHEVVNGLMERPDWETAIQKPLCSLPAGSGNALAASLNHYAGYEQVTNEDLLTNCTLLLCRRLLSPMNLLSLHTASGLRLFSVLSLAWGFIADVDLESEKYRRLGEMRFTLGTFLRLAALRTYRGRLAYLPVGRVGSKTPAS\n",
      "GPVDAHLVPLEEPVPSHWTVVPDEDFVLVLALLHSHLGSEMFAAPMGRCAAGVMHLFYVRAGVSRAMLLRLFLAMEKGRHMEYECPYLVYVPVVAFRLEPKDGKGVFAVDGELMVSEAVQGQVHPNYFWMVS\n"
     ]
    },
    {
     "name": "stderr",
     "output_type": "stream",
     "text": [
      "C:\\Users\\admin\\anaconda3\\envs\\chem\\lib\\site-packages\\Bio\\PDB\\PDBParser.py:399: PDBConstructionWarning: Ignoring unrecognized record 'END' at line 2744\n",
      "  PDBConstructionWarning,\n"
     ]
    }
   ],
   "source": [
    "\n",
    "from Bio import PDB\n",
    "file = r\"E:\\projects\\DiffDock\\data\\dummy_data\\4v24_rec_noH.pdb\"\n",
    "parser = PDB.PDBParser()\n",
    "structure = parser.get_structure('4v24', file)\n",
    "ppb = PDB.PPBuilder()\n",
    " \n",
    "for pp in ppb.build_peptides(structure):\n",
    "    print (pp.get_sequence())\n",
    "\n",
    "model = structure[0]\n",
    "for pp in ppb.build_peptides(model):\n",
    "    print (pp.get_sequence())\n"
   ]
  },
  {
   "cell_type": "code",
   "execution_count": 195,
   "id": "3c32feb2",
   "metadata": {},
   "outputs": [
    {
     "name": "stdout",
     "output_type": "stream",
     "text": [
      "PRGVLPRPCRVLVLLNPRGGKGKALQLFRSHVQPLLAEAEISFTLMLTERRNHARELVRSEELGRWDALVVMSGDGLMHEVVNGLMERPDWETAIQKPLCSLPAGSGNALAASLNHYAGYEQVTNEDLLTNCTLLLCRRLLSPMNLLSLHTASGLRLFSVLSLAWGFIADVDLESEKYRRLGEMRFTLGTFLRLAALRTYRGRLAYLPVGRVGSKTPAS\n",
      "GPVDAHLVPLEEPVPSHWTVVPDEDFVLVLALLHSHLGSEMFAAPMGRCAAGVMHLFYVRAGVSRAMLLRLFLAMEKGRHMEYECPYLVYVPVVAFRLEPKDGKGVFAVDGELMVSEAVQGQVHPNYFWMVS\n"
     ]
    }
   ],
   "source": [
    "from Bio.PDB import PPBuilder\n",
    "ppb = PPBuilder()\n",
    "for pp in ppb.build_peptides(structure):\n",
    "    print(pp.get_sequence())"
   ]
  },
  {
   "cell_type": "code",
   "execution_count": 219,
   "id": "c4bc6a3c",
   "metadata": {},
   "outputs": [
    {
     "data": {
      "image/png": "[encoded data removed]",
      "text/plain": [
       "<PIL.PngImagePlugin.PngImageFile image mode=RGB size=300x300>"
      ]
     },
     "execution_count": 219,
     "metadata": {},
     "output_type": "execute_result"
    }
   ],
   "source": [
    "from rdkit import Chem\n",
    "from rdkit.Chem import AllChem, Draw\n",
    "smiles = 'CCCCCCCCC1=CC=C(C=C1)CCC(CO)(CO)N'\n",
    "mol = Chem.MolFromSmiles(smiles)\n",
    "m3d = Chem.AddHs(mol)\n",
    "AllChem.EmbedMolecule(m3d)\n",
    "Draw.MolToImage(m3d)"
   ]
  },
  {
   "cell_type": "code",
   "execution_count": 222,
   "id": "82802e57",
   "metadata": {},
   "outputs": [
    {
     "data": {
      "text/plain": [
       "<rdkit.Chem.rdchem.Conformer at 0x20d1ba10080>"
      ]
     },
     "execution_count": 222,
     "metadata": {},
     "output_type": "execute_result"
    }
   ],
   "source": [
    "m3d.GetConformer(id=0)"
   ]
  },
  {
   "cell_type": "code",
   "execution_count": 282,
   "id": "56d89b2e",
   "metadata": {},
   "outputs": [
    {
     "data": {
      "image/png": "[encoded data removed]",
      "text/plain": [
       "<PIL.PngImagePlugin.PngImageFile image mode=RGB size=300x300>"
      ]
     },
     "execution_count": 282,
     "metadata": {},
     "output_type": "execute_result"
    }
   ],
   "source": [
    "file = r\"C:\\Users\\admin\\Downloads\\1KE8.pdbqt\"\n",
    "with open(file, 'r') as f:\n",
    "    pdbqt_data = f.readlines()\n",
    "pdb_block = ''\n",
    "for line in pdbqt_data:\n",
    "    line = line.strip('\\n')\n",
    "    pdb_block += '{}\\n'.format(line[:66])\n",
    "#     pdb_block += '\\n'\n",
    "mol = Chem.MolFromPDBBlock(pdb_block, sanitize=False, removeHs=False)\n",
    "# molH = Chem.AddHs(mol)\n",
    "Draw.MolToImage(mol)"
   ]
  },
  {
   "cell_type": "code",
   "execution_count": 283,
   "id": "05b29868",
   "metadata": {},
   "outputs": [],
   "source": [
    "Chem.SanitizeMol(mol)\n",
    "AllChem.ComputeGasteigerCharges(mol)\n"
   ]
  },
  {
   "cell_type": "code",
   "execution_count": 284,
   "id": "3520ddf9",
   "metadata": {
    "scrolled": true
   },
   "outputs": [
    {
     "data": {
      "image/png": "[encoded data removed]",
      "text/plain": [
       "<rdkit.Chem.rdchem.Mol at 0x20d1ba35ee0>"
      ]
     },
     "execution_count": 284,
     "metadata": {},
     "output_type": "execute_result"
    }
   ],
   "source": [
    "mol"
   ]
  },
  {
   "cell_type": "code",
   "execution_count": 285,
   "id": "426bd0c8",
   "metadata": {},
   "outputs": [
    {
     "data": {
      "image/png": "[encoded data removed]",
      "text/plain": [
       "<rdkit.Chem.rdchem.Mol at 0x20d1ba351c0>"
      ]
     },
     "execution_count": 285,
     "metadata": {},
     "output_type": "execute_result"
    }
   ],
   "source": [
    "Chem.AddHs(mol)"
   ]
  },
  {
   "cell_type": "code",
   "execution_count": 277,
   "id": "93a9bdee",
   "metadata": {},
   "outputs": [
    {
     "name": "stdout",
     "output_type": "stream",
     "text": [
      "MODEL 1\n",
      "REMARK VINA RESULT:      -9.3      0.000      0.000\n",
      "REMARK  5 active torsions:\n",
      "REMARK  status: ('A' for Active; 'I' for Inactive)\n",
      "REMARK    1  A    between atoms: C_10  and  N_11 \n",
      "REMARK    2  A    between atoms: N_11  and  C_12 \n",
      "REMARK    3  A    between atoms: C_15  and  S_17 \n",
      "REMARK    4  A    between atoms: S_17  and  N_18 \n",
      "REMARK    5  A    between atoms: N_18  and  C_19 \n",
      "ROOT\n",
      "HETATM    1  C   UNL     1       3.689  26.714   6.935  1.00  0.00\n",
      "HETATM    2  C   UNL     1       3.976  25.357   7.103  1.00  0.00\n",
      "HETATM    3  C   UNL     1       4.638  24.647   6.098  1.00  0.00\n",
      "HETATM    4  C   UNL     1       4.946  25.268   4.879  1.00  0.00\n",
      "HETATM    5  C   UNL     1       4.487  26.560   4.637  1.00  0.00\n",
      "HETATM    6  C   UNL     1       3.916  27.293   5.682  1.00  0.00\n",
      "ENDROOT\n",
      "BRANCH   1   7\n",
      "HETATM    7  N   UNL     1       3.143  27.499   7.955  1.00  0.00\n",
      "HETATM    8  H   UNL     1       3.665  27.532   8.834  1.00  0.00\n",
      "BRANCH   7   9\n",
      "HETATM    9  C   UNL     1       1.983  28.227   7.921  1.00  0.00\n",
      "HETATM   10  C   UNL     1       0.847  27.968   8.578  1.00  0.00\n",
      "HETATM   11  C   UNL     1       0.598  26.736   9.402  1.00  0.00\n",
      "HETATM   12  C   UNL     1      -0.349  28.800   8.663  1.00  0.00\n",
      "HETATM   13  O   UNL     1       1.369  25.815   9.606  1.00  0.00\n",
      "HETATM   14  N   UNL     1      -0.695  26.884   9.881  1.00  0.00\n",
      "HETATM   15  C   UNL     1      -1.251  28.095   9.469  1.00  0.00\n",
      "HETATM   16  H   UNL     1      -1.140  26.204  10.478  1.00  0.00\n",
      "HETATM   17  C   UNL     1      -2.490  28.599   9.804  1.00  0.00\n",
      "HETATM   18  C   UNL     1      -2.818  29.867   9.316  1.00  0.00\n",
      "HETATM   19  C   UNL     1      -1.913  30.589   8.513  1.00  0.00\n",
      "HETATM   20  C   UNL     1      -0.665  30.055   8.178  1.00  0.00\n",
      "ENDBRANCH   7   9\n",
      "ENDBRANCH   1   7\n",
      "BRANCH   4  21\n",
      "HETATM   21  S   UNL     1       6.024  24.367   3.782  1.00  0.00\n",
      "HETATM   22  O   UNL     1       7.378  24.643   4.213  1.00  0.00\n",
      "HETATM   23  O   UNL     1       5.513  23.011   3.777  1.00  0.00\n",
      "BRANCH  21  24\n",
      "HETATM   24  N   UNL     1       5.872  24.884   2.216  1.00  0.00\n",
      "HETATM   25  H   UNL     1       4.923  25.126   1.946  1.00  0.00\n",
      "BRANCH  24  26\n",
      "HETATM   26  C   UNL     1       6.843  25.627   1.537  1.00  0.00\n",
      "HETATM   27  N   UNL     1       7.343  26.631   2.218  1.00  0.00\n",
      "HETATM   28  C   UNL     1       8.436  27.142   1.553  1.00  0.00\n",
      "ATOM     29  HN  UNL     1       6.978  26.980   3.104  1.00  0.00\n",
      "HETATM   30  C   UNL     1       8.724  26.541   0.347  1.00  0.00\n",
      "HETATM   31  S   UNL     1       7.512  25.369  -0.011  1.00  0.00\n",
      "ENDBRANCH  24  26\n",
      "ENDBRANCH  21  24\n",
      "ENDBRANCH   4  21\n",
      "TORSDOF 5\n",
      "ENDMDL\n",
      "\n"
     ]
    }
   ],
   "source": [
    "print(pdb_block)"
   ]
  },
  {
   "cell_type": "code",
   "execution_count": 75,
   "id": "035dbaa2",
   "metadata": {},
   "outputs": [
    {
     "data": {
      "text/plain": [
       "0"
      ]
     },
     "execution_count": 75,
     "metadata": {},
     "output_type": "execute_result"
    }
   ],
   "source": [
    "import rdkit \n",
    "from rdkit import Chem\n",
    "from rdkit.Chem import AllChem, Draw\n",
    "mol = Chem.MolFromSmiles('CCCCCCCCC1=CC=C(C=C1)CCC(CO)(CO)N')\n",
    "e3d = Chem.AddHs(mol)\n",
    "AllChem.EmbedMolecule(e3d)"
   ]
  },
  {
   "cell_type": "code",
   "execution_count": 76,
   "id": "e6a0a98c",
   "metadata": {
    "scrolled": true
   },
   "outputs": [
    {
     "name": "stdout",
     "output_type": "stream",
     "text": [
      "Before:  [ 8.49860818  0.34944004 -0.93786923]\n",
      "After: [ 3.61382918 -0.85268053  1.60000288]\n"
     ]
    }
   ],
   "source": [
    "lig = e3d.GetConformer()\n",
    "pos = lig.GetPositions()\n",
    "print('Before: ', pos[0])\n",
    "pos[0] = [ 3.61382918, -0.85268053,  1.60000288]\n",
    "print('After:', pos[0])"
   ]
  },
  {
   "cell_type": "code",
   "execution_count": 79,
   "id": "1ad1673c",
   "metadata": {},
   "outputs": [],
   "source": [
    "for i in range(mol.GetNumAtoms()):\n",
    "    x, y, z = pos[i]\n",
    "    lig.SetAtomPosition(i, Point3D(x, y, z))\n",
    "    "
   ]
  },
  {
   "cell_type": "code",
   "execution_count": 81,
   "id": "d30f3a75",
   "metadata": {},
   "outputs": [
    {
     "name": "stdout",
     "output_type": "stream",
     "text": [
      "[ 3.61382918 -0.85268053  1.60000288]\n"
     ]
    }
   ],
   "source": [
    "print(lig.GetPositions()[0])"
   ]
  },
  {
   "cell_type": "code",
   "execution_count": 59,
   "id": "06ab1d55",
   "metadata": {},
   "outputs": [
    {
     "name": "stdout",
     "output_type": "stream",
     "text": [
      "(55, 3)\n"
     ]
    }
   ],
   "source": [
    "import numpy as np\n",
    "pos = pos.astype(np.double)\n",
    "print(pos.shape)"
   ]
  },
  {
   "cell_type": "code",
   "execution_count": 65,
   "id": "6b76db1f",
   "metadata": {},
   "outputs": [
    {
     "data": {
      "text/plain": [
       "0.2"
      ]
     },
     "execution_count": 65,
     "metadata": {},
     "output_type": "execute_result"
    }
   ],
   "source": [
    "from rdkit.Geometry import Point3D\n",
    "g = Point3D(0.1, 0.2, 0.3)\n",
    "g.y"
   ]
  },
  {
   "cell_type": "code",
   "execution_count": 43,
   "id": "8fb6d5aa",
   "metadata": {},
   "outputs": [
    {
     "name": "stdout",
     "output_type": "stream",
     "text": [
      "['ETversion', 'SetBoundsMat', 'SetCPCI', '__class__', '__delattr__', '__dict__', '__dir__', '__doc__', '__eq__', '__format__', '__ge__', '__getattribute__', '__gt__', '__hash__', '__init__', '__init_subclass__', '__instance_size__', '__le__', '__lt__', '__module__', '__ne__', '__new__', '__reduce__', '__reduce_ex__', '__repr__', '__setattr__', '__sizeof__', '__str__', '__subclasshook__', '__weakref__', 'boundsMatForceScaling', 'boxSizeMult', 'clearConfs', 'embedFragmentsSeparately', 'enforceChirality', 'forceTransAmides', 'ignoreSmoothingFailures', 'maxIterations', 'numThreads', 'numZeroFail', 'onlyHeavyAtomsForRMS', 'optimizerForceTol', 'pruneRmsThresh', 'randNegEig', 'randomSeed', 'useBasicKnowledge', 'useExpTorsionAnglePrefs', 'useMacrocycleTorsions', 'useRandomCoords', 'useSmallRingTorsions', 'useSymmetryForPruning', 'verbose']\n"
     ]
    },
    {
     "data": {
      "image/png": "[encoded data removed]",
      "text/plain": [
       "<PIL.PngImagePlugin.PngImageFile image mode=RGB size=300x300>"
      ]
     },
     "execution_count": 43,
     "metadata": {},
     "output_type": "execute_result"
    }
   ],
   "source": [
    "mol = Chem.MolFromSmiles('CCCCCCCCC1=CC=C(C=C1)CCC(CO)(CO)N')\n",
    "ps = AllChem.ETKDGv2()\n",
    "mol = Chem.AddHs(mol)\n",
    "AllChem.EmbedMolecule(mol, ps)\n",
    "Draw.MolToImage(mol)"
   ]
  },
  {
   "cell_type": "code",
   "execution_count": 49,
   "id": "ccd615c1",
   "metadata": {},
   "outputs": [
    {
     "name": "stdout",
     "output_type": "stream",
     "text": [
      "['ETversion', 'SetBoundsMat', 'SetCPCI', '__class__', '__delattr__', '__dict__', '__dir__', '__doc__', '__eq__', '__format__', '__ge__', '__getattribute__', '__gt__', '__hash__', '__init__', '__init_subclass__', '__instance_size__', '__le__', '__lt__', '__module__', '__ne__', '__new__', '__reduce__', '__reduce_ex__', '__repr__', '__setattr__', '__sizeof__', '__str__', '__subclasshook__', '__weakref__', 'boundsMatForceScaling', 'boxSizeMult', 'clearConfs', 'embedFragmentsSeparately', 'enforceChirality', 'forceTransAmides', 'ignoreSmoothingFailures', 'maxIterations', 'numThreads', 'numZeroFail', 'onlyHeavyAtomsForRMS', 'optimizerForceTol', 'pruneRmsThresh', 'randNegEig', 'randomSeed', 'useBasicKnowledge', 'useExpTorsionAnglePrefs', 'useMacrocycleTorsions', 'useRandomCoords', 'useSmallRingTorsions', 'useSymmetryForPruning', 'verbose']\n"
     ]
    }
   ],
   "source": [
    "ps = AllChem.ETKDGv2()\n",
    "print(dir(ps))"
   ]
  },
  {
   "cell_type": "code",
   "execution_count": 50,
   "id": "d7a6faa5",
   "metadata": {},
   "outputs": [
    {
     "data": {
      "text/plain": [
       "True"
      ]
     },
     "execution_count": 50,
     "metadata": {},
     "output_type": "execute_result"
    }
   ],
   "source": [
    "ps.useBasicKnowledge"
   ]
  },
  {
   "cell_type": "code",
   "execution_count": 45,
   "id": "703d191b",
   "metadata": {
    "scrolled": true
   },
   "outputs": [
    {
     "data": {
      "text/plain": [
       "1"
      ]
     },
     "execution_count": 45,
     "metadata": {},
     "output_type": "execute_result"
    }
   ],
   "source": [
    "mol.GetNumConformers()"
   ]
  },
  {
   "cell_type": "code",
   "execution_count": 46,
   "id": "20570345",
   "metadata": {},
   "outputs": [
    {
     "data": {
      "text/plain": [
       "array([[ 7.88465285, -1.08067656, -1.74861704],\n",
       "       [ 6.84265956, -0.04398977, -1.28782802],\n",
       "       [ 5.7642561 , -0.83630038, -0.60508984],\n",
       "       [ 4.63283239,  0.04211644, -0.04263817],\n",
       "       [ 4.00090084,  0.78577424, -1.12735611],\n",
       "       [ 2.89858909,  1.71068706, -0.93515098],\n",
       "       [ 1.58301557,  1.36932736, -0.42534896],\n",
       "       [ 1.50104817,  0.81295735,  0.96739812],\n",
       "       [ 0.05552705,  0.57017641,  1.3408381 ],\n",
       "       [-0.71944181,  1.50397446,  1.95249882],\n",
       "       [-2.04167242,  1.2539129 ,  2.27872281],\n",
       "       [-2.61238859,  0.01273573,  1.97848475],\n",
       "       [-1.81257631, -0.91031439,  1.3632918 ],\n",
       "       [-0.48854686, -0.65439896,  1.03865545],\n",
       "       [-4.00592164, -0.28277297,  2.32240459],\n",
       "       [-5.02559938,  0.10362217,  1.31505392],\n",
       "       [-4.94632975, -0.54827492, -0.01849453],\n",
       "       [-5.1017879 , -2.03401504,  0.01257232],\n",
       "       [-5.19222175, -2.52537609, -1.28830773],\n",
       "       [-6.11566962,  0.01099255, -0.84252656],\n",
       "       [-5.92943908,  1.40694746, -0.90372445],\n",
       "       [-3.7433934 , -0.17094119, -0.75012188],\n",
       "       [ 7.333892  , -1.83558921, -2.33191776],\n",
       "       [ 8.25840423, -1.56455744, -0.82078431],\n",
       "       [ 8.68141095, -0.59292928, -2.31296448],\n",
       "       [ 7.27866073,  0.68201148, -0.59197712],\n",
       "       [ 6.41103286,  0.42616514, -2.21200057],\n",
       "       [ 6.16699587, -1.49693629,  0.16841928],\n",
       "       [ 5.25987563, -1.47752597, -1.37348876],\n",
       "       [ 5.18896571,  0.72690796,  0.67594569],\n",
       "       [ 4.05311786, -0.61304476,  0.59098059],\n",
       "       [ 4.84303932,  1.40864269, -1.60460615],\n",
       "       [ 3.76923316,  0.07995433, -1.99758859],\n",
       "       [ 2.76175168,  2.2572552 , -1.94313406],\n",
       "       [ 3.26234605,  2.61112585, -0.30470927],\n",
       "       [ 0.99001808,  2.34786665, -0.3669384 ],\n",
       "       [ 0.93798091,  0.77993797, -1.13494632],\n",
       "       [ 1.96448503, -0.17576175,  1.10707849],\n",
       "       [ 1.95929891,  1.48890288,  1.71682211],\n",
       "       [-0.29471221,  2.47157501,  2.19301681],\n",
       "       [-2.62870626,  2.01812467,  2.76419035],\n",
       "       [-2.16890395, -1.88757411,  1.10282397],\n",
       "       [ 0.13620735, -1.39284951,  0.55113806],\n",
       "       [-4.08486012, -1.35425268,  2.60659943],\n",
       "       [-4.23109319,  0.29744821,  3.26370718],\n",
       "       [-5.08320377,  1.20526955,  1.19034632],\n",
       "       [-6.02992988, -0.1726361 ,  1.74710946],\n",
       "       [-6.13248442, -2.23060202,  0.45209538],\n",
       "       [-4.35693572, -2.53674063,  0.62074675],\n",
       "       [-4.80829021, -1.96268551, -1.97671202],\n",
       "       [-6.12987055, -0.42400184, -1.84314989],\n",
       "       [-7.05265371, -0.13512787, -0.26486705],\n",
       "       [-6.52729133,  1.79422751, -1.59816799],\n",
       "       [-3.2347594 , -0.9866486 , -1.15236964],\n",
       "       [-3.92151471,  0.49693762, -1.51541386]])"
      ]
     },
     "execution_count": 46,
     "metadata": {},
     "output_type": "execute_result"
    }
   ],
   "source": [
    "lig = mol.GetConformer()\n",
    "lig.GetPositions()"
   ]
  },
  {
   "cell_type": "code",
   "execution_count": 20,
   "id": "98fca89d",
   "metadata": {},
   "outputs": [
    {
     "data": {
      "text/plain": [
       "1"
      ]
     },
     "execution_count": 20,
     "metadata": {},
     "output_type": "execute_result"
    }
   ],
   "source": [
    "AllChem.MMFFOptimizeMolecule(e3d)"
   ]
  },
  {
   "cell_type": "code",
   "execution_count": 24,
   "id": "a72365e6",
   "metadata": {},
   "outputs": [
    {
     "data": {
      "image/png": "[encoded data removed]",
      "text/plain": [
       "<PIL.PngImagePlugin.PngImageFile image mode=RGB size=300x300>"
      ]
     },
     "execution_count": 24,
     "metadata": {},
     "output_type": "execute_result"
    }
   ],
   "source": [
    "Draw.MolToImage(e3d)"
   ]
  },
  {
   "cell_type": "code",
   "execution_count": 27,
   "id": "91133736",
   "metadata": {},
   "outputs": [
    {
     "name": "stdout",
     "output_type": "stream",
     "text": [
      "['AddConformer', 'ClearComputedProps', 'ClearProp', 'Compute2DCoords', 'ComputeGasteigerCharges', 'Debug', 'GetAromaticAtoms', 'GetAtomWithIdx', 'GetAtoms', 'GetAtomsMatchingQuery', 'GetBondBetweenAtoms', 'GetBondWithIdx', 'GetBonds', 'GetBoolProp', 'GetConformer', 'GetConformers', 'GetDoubleProp', 'GetIntProp', 'GetNumAtoms', 'GetNumBonds', 'GetNumConformers', 'GetNumHeavyAtoms', 'GetProp', 'GetPropNames', 'GetPropsAsDict', 'GetRingInfo', 'GetStereoGroups', 'GetSubstructMatch', 'GetSubstructMatches', 'GetUnsignedProp', 'HasProp', 'HasSubstructMatch', 'NeedsUpdatePropertyCache', 'RemoveAllConformers', 'RemoveConformer', 'SetBoolProp', 'SetDoubleProp', 'SetIntProp', 'SetProp', 'SetUnsignedProp', 'ToBinary', 'UpdatePropertyCache', '__DebugMol', '__GetSubstructMatch', '__GetSubstructMatches', '__class__', '__copy__', '__deepcopy__', '__delattr__', '__dict__', '__dir__', '__doc__', '__eq__', '__format__', '__ge__', '__getattribute__', '__getinitargs__', '__gt__', '__hash__', '__init__', '__init_subclass__', '__instance_size__', '__le__', '__lt__', '__module__', '__ne__', '__new__', '__reduce__', '__reduce_ex__', '__repr__', '__safe_for_unpickling__', '__setattr__', '__sizeof__', '__str__', '__subclasshook__', '__weakref__', '_repr_html_', '_repr_png_', '_repr_svg_']\n"
     ]
    }
   ],
   "source": [
    "print(dir(e3d))"
   ]
  },
  {
   "cell_type": "code",
   "execution_count": 29,
   "id": "ec6333af",
   "metadata": {},
   "outputs": [
    {
     "data": {
      "text/plain": [
       "1"
      ]
     },
     "execution_count": 29,
     "metadata": {},
     "output_type": "execute_result"
    }
   ],
   "source": [
    "e3d.GetNumConformers()"
   ]
  },
  {
   "cell_type": "code",
   "execution_count": 25,
   "id": "23d0a585",
   "metadata": {},
   "outputs": [
    {
     "name": "stdout",
     "output_type": "stream",
     "text": [
      "[[ 7.63638130e+00  6.88388553e-01  1.60299132e+00]\n",
      " [ 7.27254032e+00 -7.57924569e-01  1.30676396e+00]\n",
      " [ 6.84560531e+00 -9.97992379e-01 -1.43369650e-01]\n",
      " [ 5.63505546e+00 -1.91858232e-01 -6.27599548e-01]\n",
      " [ 4.35594744e+00 -4.83815239e-01  1.60830129e-01]\n",
      " [ 3.14399847e+00  3.20101259e-01 -3.24128669e-01]\n",
      " [ 2.66009672e+00 -8.85638278e-02 -1.71984296e+00]\n",
      " [ 1.42638655e+00  6.99075871e-01 -2.17873372e+00]\n",
      " [ 1.73856811e-01  3.85432818e-01 -1.39819782e+00]\n",
      " [-4.72637445e-01 -8.47171572e-01 -1.55438665e+00]\n",
      " [-1.62946113e+00 -1.14044497e+00 -8.28395862e-01]\n",
      " [-2.15855768e+00 -2.07049618e-01  7.02861621e-02]\n",
      " [-1.51733168e+00  1.02819420e+00  2.21834791e-01]\n",
      " [-3.61066949e-01  1.32111512e+00 -5.04623615e-01]\n",
      " [-3.41864954e+00 -5.10964360e-01  8.44933789e-01]\n",
      " [-4.66077530e+00  3.20927935e-02  1.26088043e-01]\n",
      " [-6.01714004e+00 -2.80855549e-01  8.19700904e-01]\n",
      " [-7.15985370e+00  4.03961564e-01  1.27024749e-02]\n",
      " [-7.06035065e+00  1.82851376e+00  6.80879037e-02]\n",
      " [-6.05056762e+00  2.47044506e-01  2.28256243e+00]\n",
      " [-5.64879617e+00  1.61127951e+00  2.37883995e+00]\n",
      " [-6.27143427e+00 -1.73892728e+00  8.11699635e-01]\n",
      " [ 8.40262342e+00  1.05084226e+00  9.10510769e-01]\n",
      " [ 8.03094168e+00  7.75464899e-01  2.62049781e+00]\n",
      " [ 6.76384042e+00  1.34420847e+00  1.52973098e+00]\n",
      " [ 6.48772683e+00 -1.08704478e+00  1.99630890e+00]\n",
      " [ 8.14709564e+00 -1.38629978e+00  1.51519366e+00]\n",
      " [ 7.69408165e+00 -7.72529951e-01 -8.01719455e-01]\n",
      " [ 6.63428535e+00 -2.06710073e+00 -2.70556931e-01]\n",
      " [ 5.85848203e+00  8.80398942e-01 -5.91548607e-01]\n",
      " [ 5.48016432e+00 -4.39174485e-01 -1.68383204e+00]\n",
      " [ 4.51395388e+00 -2.34954559e-01  1.21629711e+00]\n",
      " [ 4.12827868e+00 -1.55565243e+00  1.17650005e-01]\n",
      " [ 3.38351469e+00  1.39027780e+00 -3.12261434e-01]\n",
      " [ 2.33540218e+00  1.68689373e-01  4.00494141e-01]\n",
      " [ 2.45372643e+00 -1.16543588e+00 -1.73816896e+00]\n",
      " [ 3.45697457e+00  9.40741078e-02 -2.44934972e+00]\n",
      " [ 1.63926130e+00  1.77474759e+00 -2.13730440e+00]\n",
      " [ 1.23227067e+00  4.75655190e-01 -3.23587506e+00]\n",
      " [-7.82547305e-02 -1.58816185e+00 -2.24592369e+00]\n",
      " [-2.11348827e+00 -2.10351766e+00 -9.70068904e-01]\n",
      " [-1.91727622e+00  1.77162321e+00  9.08780101e-01]\n",
      " [ 1.20187062e-01  2.28624386e+00 -3.64193170e-01]\n",
      " [-3.32601920e+00 -7.60152234e-02  1.84682454e+00]\n",
      " [-3.49444926e+00 -1.59492121e+00  9.89142342e-01]\n",
      " [-4.54950042e+00  1.11834167e+00  7.65749213e-03]\n",
      " [-4.68363329e+00 -3.68188919e-01 -8.97876513e-01]\n",
      " [-7.12965247e+00  9.98028057e-02 -1.04013516e+00]\n",
      " [-8.13949089e+00  1.26542496e-01  4.19387900e-01]\n",
      " [-7.76820620e+00  2.17648662e+00 -5.04632538e-01]\n",
      " [-5.38353053e+00 -3.34210022e-01  2.92830137e+00]\n",
      " [-7.05851001e+00  1.60933933e-01  2.70512479e+00]\n",
      " [-6.12870546e+00  2.08256617e+00  1.66325248e+00]\n",
      " [-6.11455048e+00 -2.11072762e+00 -1.25440504e-01]\n",
      " [-5.60078962e+00 -2.21259664e+00  1.41701888e+00]]\n"
     ]
    }
   ],
   "source": [
    "mol = e3d.GetConformers()\n",
    "for m in mol:\n",
    "    print(m.GetPositions())"
   ]
  },
  {
   "cell_type": "code",
   "execution_count": 109,
   "id": "607957e3",
   "metadata": {
    "scrolled": true
   },
   "outputs": [
    {
     "data": {
      "text/plain": [
       "array([[ 7.27067856,  1.69490415,  0.31057545],\n",
       "       [ 6.9406772 ,  0.55393549,  1.24723887],\n",
       "       [ 5.55779231,  0.6304663 ,  1.79120565],\n",
       "       [ 4.47427929,  0.60842001,  0.68703482],\n",
       "       [ 4.60910845, -0.64654372, -0.05341817]])"
      ]
     },
     "execution_count": 109,
     "metadata": {},
     "output_type": "execute_result"
    }
   ],
   "source": [
    "mol = Chem.MolFromSmiles('CCCCCCCCC1=CC=C(C=C1)CCC(CO)(CO)N')\n",
    "ps = AllChem.ETKDGv2()\n",
    "e3d = Chem.AddHs(mol)\n",
    "AllChem.EmbedMolecule(e3d, ps)\n",
    "e3d.GetConformer()\n",
    "mol1 = copy.deepcopy(e3d)\n",
    "mol1.GetConformer().GetPositions()[:5]"
   ]
  },
  {
   "cell_type": "code",
   "execution_count": 112,
   "id": "14d75c6b",
   "metadata": {},
   "outputs": [
    {
     "data": {
      "text/plain": [
       "array([[ 6.94622753e+00,  1.69532006e+00,  1.32953682e+00],\n",
       "       [ 6.81397475e+00,  2.18485615e-01,  1.66617136e+00],\n",
       "       [ 5.37035042e+00, -2.28590585e-01,  1.90881448e+00],\n",
       "       [ 4.39458262e+00, -4.69782797e-03,  7.47924103e-01],\n",
       "       [ 4.76849559e+00, -7.74360218e-01, -5.18864253e-01]])"
      ]
     },
     "execution_count": 112,
     "metadata": {},
     "output_type": "execute_result"
    }
   ],
   "source": [
    "import copy\n",
    "AllChem.MMFFOptimizeMolecule(e3d)\n",
    "e3d.GetConformer().GetPositions()[:5]"
   ]
  },
  {
   "cell_type": "code",
   "execution_count": 119,
   "id": "e679f56e",
   "metadata": {
    "scrolled": true
   },
   "outputs": [
    {
     "data": {
      "text/plain": [
       "array([[ 6.94622753e+00,  1.69532006e+00,  1.32953682e+00],\n",
       "       [ 6.81397475e+00,  2.18485615e-01,  1.66617136e+00],\n",
       "       [ 5.37035042e+00, -2.28590585e-01,  1.90881448e+00],\n",
       "       [ 4.39458262e+00, -4.69782797e-03,  7.47924103e-01],\n",
       "       [ 4.76849559e+00, -7.74360218e-01, -5.18864253e-01]])"
      ]
     },
     "execution_count": 119,
     "metadata": {},
     "output_type": "execute_result"
    }
   ],
   "source": [
    "mol2 = copy.deepcopy(e3d)\n",
    "mol2.AddConformer(mol1.GetConformer())\n",
    "rms_list = []\n",
    "AllChem.AlignMolConformers(mol2, RMSlist=rms_list)\n",
    "mol2.GetConformers()[0].GetPositions()[:5]"
   ]
  },
  {
   "cell_type": "code",
   "execution_count": 120,
   "id": "d8a1a23b",
   "metadata": {
    "scrolled": true
   },
   "outputs": [
    {
     "data": {
      "text/plain": [
       "array([[ 7.30090134,  1.5298387 ,  0.44842776],\n",
       "       [ 6.92126087,  0.41994779,  1.40344819],\n",
       "       [ 5.5279957 ,  0.54204277,  1.9114171 ],\n",
       "       [ 4.470994  ,  0.51867094,  0.78186813],\n",
       "       [ 4.59330331, -0.75667821,  0.07482606]])"
      ]
     },
     "execution_count": 120,
     "metadata": {},
     "output_type": "execute_result"
    }
   ],
   "source": [
    "mol2.GetConformers()[1].GetPositions()[:5]"
   ]
  },
  {
   "cell_type": "code",
   "execution_count": 121,
   "id": "32b4c4ff",
   "metadata": {},
   "outputs": [
    {
     "name": "stdout",
     "output_type": "stream",
     "text": [
      "[0.810575601079916]\n"
     ]
    }
   ],
   "source": [
    "print(rms_list)"
   ]
  }
 ],
 "metadata": {
  "kernelspec": {
   "display_name": "Python 3 (ipykernel)",
   "language": "python",
   "name": "python3"
  },
  "language_info": {
   "codemirror_mode": {
    "name": "ipython",
    "version": 3
   },
   "file_extension": ".py",
   "mimetype": "text/x-python",
   "name": "python",
   "nbconvert_exporter": "python",
   "pygments_lexer": "ipython3",
   "version": "3.7.12"
  }
 },
 "nbformat": 4,
 "nbformat_minor": 5
}
