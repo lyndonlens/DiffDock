{
 "cells": [
  {
   "cell_type": "code",
   "execution_count": 58,
   "id": "193e9f9f",
   "metadata": {
    "scrolled": true
   },
   "outputs": [
    {
     "name": "stdout",
     "output_type": "stream",
     "text": [
      "residue number: 348\n",
      "atom number:  2510\n"
     ]
    },
    {
     "name": "stderr",
     "output_type": "stream",
     "text": [
      "C:\\Users\\admin\\anaconda3\\envs\\chem\\lib\\site-packages\\Bio\\PDB\\PDBParser.py:399: PDBConstructionWarning: Ignoring unrecognized record 'END' at line 2537\n",
      "  PDBConstructionWarning,\n"
     ]
    }
   ],
   "source": [
    "from Bio.PDB import PDBParser\n",
    "file = r\"C:\\Users\\admin\\Downloads\\1c1d.pdb\"\n",
    "parser = PDBParser(PERMISSIVE=1)\n",
    "\n",
    "structure = parser.get_structure('1c1d', file)\n",
    "from Bio.PDB.Selection import unfold_entities\n",
    "\n",
    "model = structure[0]\n",
    "model.get_full_id()\n",
    "\n",
    "residue_list = unfold_entities(model, 'R')\n",
    "print('residue number:', len(residue_list))\n",
    "from Bio.PDB.NeighborSearch import NeighborSearch\n",
    "from Bio.PDB.Selection import unfold_entities\n",
    "atoms = unfold_entities(structure, 'A')\n",
    "print('atom number: ', len(atoms))"
   ]
  },
  {
   "cell_type": "code",
   "execution_count": 61,
   "id": "73211b8f",
   "metadata": {},
   "outputs": [
    {
     "name": "stdout",
     "output_type": "stream",
     "text": [
      "1\n"
     ]
    },
    {
     "data": {
      "text/plain": [
       "[<Chain id=B>]"
      ]
     },
     "execution_count": 61,
     "metadata": {},
     "output_type": "execute_result"
    }
   ],
   "source": [
    "chains = unfold_entities(model, 'C')\n",
    "print(len(chains))\n",
    "chains"
   ]
  },
  {
   "cell_type": "code",
   "execution_count": 57,
   "id": "17a1f2c1",
   "metadata": {},
   "outputs": [
    {
     "name": "stdout",
     "output_type": "stream",
     "text": [
      "[34.935001373291016, 22.937000274658203, 47.33000183105469]\n"
     ]
    },
    {
     "ename": "NameError",
     "evalue": "name 'xx' is not defined",
     "output_type": "error",
     "traceback": [
      "\u001b[1;31m---------------------------------------------------------------------------\u001b[0m",
      "\u001b[1;31mNameError\u001b[0m                                 Traceback (most recent call last)",
      "\u001b[1;32m~\\AppData\\Local\\Temp\\ipykernel_20340\\2601648940.py\u001b[0m in \u001b[0;36m<module>\u001b[1;34m\u001b[0m\n\u001b[0;32m      3\u001b[0m     \u001b[0matoms\u001b[0m \u001b[1;33m=\u001b[0m \u001b[0munfold_entities\u001b[0m\u001b[1;33m(\u001b[0m\u001b[0mr\u001b[0m\u001b[1;33m,\u001b[0m \u001b[1;34m'A'\u001b[0m\u001b[1;33m)\u001b[0m\u001b[1;33m\u001b[0m\u001b[1;33m\u001b[0m\u001b[0m\n\u001b[0;32m      4\u001b[0m     \u001b[0mprint\u001b[0m\u001b[1;33m(\u001b[0m\u001b[0mlist\u001b[0m\u001b[1;33m(\u001b[0m\u001b[0matoms\u001b[0m\u001b[1;33m[\u001b[0m\u001b[1;36m0\u001b[0m\u001b[1;33m]\u001b[0m\u001b[1;33m.\u001b[0m\u001b[0mget_vector\u001b[0m\u001b[1;33m(\u001b[0m\u001b[1;33m)\u001b[0m\u001b[1;33m)\u001b[0m\u001b[1;33m)\u001b[0m\u001b[1;33m\u001b[0m\u001b[1;33m\u001b[0m\u001b[0m\n\u001b[1;32m----> 5\u001b[1;33m     \u001b[0mxx\u001b[0m\u001b[1;33m\u001b[0m\u001b[1;33m\u001b[0m\u001b[0m\n\u001b[0m",
      "\u001b[1;31mNameError\u001b[0m: name 'xx' is not defined"
     ]
    }
   ],
   "source": [
    "for r in residue_list:\n",
    "#     print(r.get_id()[1], r.get_resname())\n",
    "    atoms = unfold_entities(r, 'A')\n",
    "    print(list(atoms[0].get_vector()))\n",
    "    xx"
   ]
  },
  {
   "cell_type": "code",
   "execution_count": 3,
   "id": "9490f029",
   "metadata": {
    "scrolled": true
   },
   "outputs": [
    {
     "name": "stdout",
     "output_type": "stream",
     "text": [
      "<Vector 29.89, 29.06, 43.18>\n",
      "<Vector 30.05, 29.27, 44.65>\n",
      "<Vector 30.08, 30.40, 45.09>\n",
      "<Vector 30.10, 28.18, 45.38>\n",
      "<Vector 15.34, 26.05, 26.95>\n",
      "<Vector 16.94, 26.92, 27.07>\n",
      "<Vector 26.71, 25.96, 18.42>\n",
      "<Vector 26.96, 24.66, 18.88>\n",
      "<Vector 18.94, 44.01, 30.49>\n",
      "<Vector 18.82, 45.33, 30.98>\n",
      "<Vector 1.90, 31.31, 60.32>\n",
      "<Vector 3.11, 31.31, 61.27>\n",
      "<Vector 2.97, 30.25, 62.35>\n",
      "<Vector 4.44, 31.19, 60.52>\n",
      "<Vector -2.30, 39.78, 58.14>\n",
      "<Vector -2.82, 41.17, 58.41>\n",
      "<Vector -3.69, 41.68, 57.74>\n",
      "<Vector -2.24, 41.76, 59.43>\n",
      "<Vector 7.45, 46.73, 48.31>\n",
      "<Vector 6.27, 47.07, 47.59>\n",
      "<Vector 8.06, 29.22, 62.65>\n",
      "<Vector 7.28, 30.30, 62.19>\n",
      "<Vector 18.31, 19.96, 54.65>\n",
      "<Vector 17.04, 19.87, 54.08>\n"
     ]
    }
   ],
   "source": [
    "for a in atoms:\n",
    "    if a.get_occupancy() < 1.0:\n",
    "        print(a.get_vector())"
   ]
  },
  {
   "cell_type": "code",
   "execution_count": 4,
   "id": "be8c5acf",
   "metadata": {
    "scrolled": false
   },
   "outputs": [
    {
     "name": "stdout",
     "output_type": "stream",
     "text": [
      "SIDSALNWDGEMTVTRFDSMTGAHFVIRLDSTQLGPAAGGTRAAQYSQLADALTDAGKLAGAMTLKMAVSNLPMGGGKSVIALPAPRHSIDPSTWARILRIHAENIDKLSGNYWTGPDVNTNSADMDTLNDTTEFVFGRSLERGGAGSSAFTTAVGVFEAMKATVAHRGLGSLDGLTVLVQGLGAVGGSLASLAAEAGAQLLVADTDTERVAHAVALGHTAVALEDVLSTPCDVFAPCAMGGVITTEVARTLDCSVVAGAANNVIADEAASDILHARGILYAPDFVANAGGAIHLVGREVLGWSESVVHERAVAIGDTLNQVFEISDNDGVTPDEAARTLAGRRAREA\n",
      "SIDSALNWDGEMTVTRFDSMTGAHFVIRLDSTQLGPAAGGTRAAQYSQLADALTDAGKLAGAMTLKMAVSNLPMGGGKSVIALPAPRHSIDPSTWARILRIHAENIDKLSGNYWTGPDVNTNSADMDTLNDTTEFVFGRSLERGGAGSSAFTTAVGVFEAMKATVAHRGLGSLDGLTVLVQGLGAVGGSLASLAAEAGAQLLVADTDTERVAHAVALGHTAVALEDVLSTPCDVFAPCAMGGVITTEVARTLDCSVVAGAANNVIADEAASDILHARGILYAPDFVANAGGAIHLVGREVLGWSESVVHERAVAIGDTLNQVFEISDNDGVTPDEAARTLAGRRAREA\n"
     ]
    },
    {
     "name": "stderr",
     "output_type": "stream",
     "text": [
      "C:\\Users\\admin\\anaconda3\\envs\\chem\\lib\\site-packages\\Bio\\PDB\\PDBParser.py:399: PDBConstructionWarning: Ignoring unrecognized record 'END' at line 2537\n",
      "  PDBConstructionWarning,\n"
     ]
    }
   ],
   "source": [
    "\n",
    "from Bio import PDB\n",
    "file = r\"C:\\Users\\admin\\Downloads\\1c1d.pdb\"\n",
    "parser = PDB.PDBParser()\n",
    "structure = parser.get_structure('1c1d', file)\n",
    "ppb = PDB.PPBuilder()\n",
    " \n",
    "for pp in ppb.build_peptides(structure):\n",
    "    print (pp.get_sequence())\n",
    "\n",
    "model = structure[0]\n",
    "for pp in ppb.build_peptides(model):\n",
    "    print (pp.get_sequence())\n"
   ]
  },
  {
   "cell_type": "code",
   "execution_count": 5,
   "id": "3c32feb2",
   "metadata": {},
   "outputs": [
    {
     "name": "stdout",
     "output_type": "stream",
     "text": [
      "SIDSALNWDGEMTVTRFDSMTGAHFVIRLDSTQLGPAAGGTRAAQYSQLADALTDAGKLAGAMTLKMAVSNLPMGGGKSVIALPAPRHSIDPSTWARILRIHAENIDKLSGNYWTGPDVNTNSADMDTLNDTTEFVFGRSLERGGAGSSAFTTAVGVFEAMKATVAHRGLGSLDGLTVLVQGLGAVGGSLASLAAEAGAQLLVADTDTERVAHAVALGHTAVALEDVLSTPCDVFAPCAMGGVITTEVARTLDCSVVAGAANNVIADEAASDILHARGILYAPDFVANAGGAIHLVGREVLGWSESVVHERAVAIGDTLNQVFEISDNDGVTPDEAARTLAGRRAREA\n"
     ]
    }
   ],
   "source": [
    "from Bio.PDB import PPBuilder\n",
    "ppb = PPBuilder()\n",
    "for pp in ppb.build_peptides(structure):\n",
    "    print(pp.get_sequence())"
   ]
  },
  {
   "cell_type": "code",
   "execution_count": 6,
   "id": "c4bc6a3c",
   "metadata": {},
   "outputs": [
    {
     "data": {
      "image/png": "[encoded data removed]",
      "text/plain": [
       "<PIL.PngImagePlugin.PngImageFile image mode=RGB size=300x300>"
      ]
     },
     "execution_count": 6,
     "metadata": {},
     "output_type": "execute_result"
    }
   ],
   "source": [
    "from rdkit import Chem\n",
    "from rdkit.Chem import AllChem, Draw\n",
    "smiles = 'CCCCCCCCC1=CC=C(C=C1)CCC(CO)(CO)N'\n",
    "mol = Chem.MolFromSmiles(smiles)\n",
    "m3d = Chem.AddHs(mol)\n",
    "AllChem.EmbedMolecule(m3d)\n",
    "Draw.MolToImage(m3d)"
   ]
  },
  {
   "cell_type": "code",
   "execution_count": 7,
   "id": "82802e57",
   "metadata": {},
   "outputs": [
    {
     "data": {
      "text/plain": [
       "<rdkit.Chem.rdchem.Conformer at 0x1affdcdd9e0>"
      ]
     },
     "execution_count": 7,
     "metadata": {},
     "output_type": "execute_result"
    }
   ],
   "source": [
    "m3d.GetConformer(id=0)"
   ]
  },
  {
   "cell_type": "code",
   "execution_count": 8,
   "id": "56d89b2e",
   "metadata": {},
   "outputs": [
    {
     "data": {
      "image/png": "[encoded data removed]",
      "text/plain": [
       "<PIL.PngImagePlugin.PngImageFile image mode=RGB size=300x300>"
      ]
     },
     "execution_count": 8,
     "metadata": {},
     "output_type": "execute_result"
    }
   ],
   "source": [
    "file = r\"C:\\Users\\admin\\Downloads\\1KE8.pdbqt\"\n",
    "with open(file, 'r') as f:\n",
    "    pdbqt_data = f.readlines()\n",
    "pdb_block = ''\n",
    "for line in pdbqt_data:\n",
    "    line = line.strip('\\n')\n",
    "    pdb_block += '{}\\n'.format(line[:66])\n",
    "#     pdb_block += '\\n'\n",
    "mol = Chem.MolFromPDBBlock(pdb_block, sanitize=False, removeHs=False)\n",
    "# molH = Chem.AddHs(mol)\n",
    "Draw.MolToImage(mol)"
   ]
  },
  {
   "cell_type": "code",
   "execution_count": 9,
   "id": "05b29868",
   "metadata": {},
   "outputs": [],
   "source": [
    "Chem.SanitizeMol(mol)\n",
    "AllChem.ComputeGasteigerCharges(mol)\n"
   ]
  },
  {
   "cell_type": "code",
   "execution_count": 10,
   "id": "3520ddf9",
   "metadata": {
    "scrolled": true
   },
   "outputs": [
    {
     "data": {
      "image/png": "[encoded data removed]",
      "text/plain": [
       "<rdkit.Chem.rdchem.Mol at 0x1affdce5c60>"
      ]
     },
     "execution_count": 10,
     "metadata": {},
     "output_type": "execute_result"
    }
   ],
   "source": [
    "mol"
   ]
  },
  {
   "cell_type": "code",
   "execution_count": 11,
   "id": "426bd0c8",
   "metadata": {},
   "outputs": [
    {
     "data": {
      "image/png": "[encoded data removed]",
      "text/plain": [
       "<rdkit.Chem.rdchem.Mol at 0x1affdcf4cb0>"
      ]
     },
     "execution_count": 11,
     "metadata": {},
     "output_type": "execute_result"
    }
   ],
   "source": [
    "Chem.AddHs(mol)"
   ]
  },
  {
   "cell_type": "code",
   "execution_count": 12,
   "id": "93a9bdee",
   "metadata": {},
   "outputs": [
    {
     "name": "stdout",
     "output_type": "stream",
     "text": [
      "MODEL 1\n",
      "REMARK VINA RESULT:      -9.3      0.000      0.000\n",
      "REMARK  5 active torsions:\n",
      "REMARK  status: ('A' for Active; 'I' for Inactive)\n",
      "REMARK    1  A    between atoms: C_10  and  N_11 \n",
      "REMARK    2  A    between atoms: N_11  and  C_12 \n",
      "REMARK    3  A    between atoms: C_15  and  S_17 \n",
      "REMARK    4  A    between atoms: S_17  and  N_18 \n",
      "REMARK    5  A    between atoms: N_18  and  C_19 \n",
      "ROOT\n",
      "HETATM    1  C   UNL     1       3.689  26.714   6.935  1.00  0.00\n",
      "HETATM    2  C   UNL     1       3.976  25.357   7.103  1.00  0.00\n",
      "HETATM    3  C   UNL     1       4.638  24.647   6.098  1.00  0.00\n",
      "HETATM    4  C   UNL     1       4.946  25.268   4.879  1.00  0.00\n",
      "HETATM    5  C   UNL     1       4.487  26.560   4.637  1.00  0.00\n",
      "HETATM    6  C   UNL     1       3.916  27.293   5.682  1.00  0.00\n",
      "ENDROOT\n",
      "BRANCH   1   7\n",
      "HETATM    7  N   UNL     1       3.143  27.499   7.955  1.00  0.00\n",
      "HETATM    8  H   UNL     1       3.665  27.532   8.834  1.00  0.00\n",
      "BRANCH   7   9\n",
      "HETATM    9  C   UNL     1       1.983  28.227   7.921  1.00  0.00\n",
      "HETATM   10  C   UNL     1       0.847  27.968   8.578  1.00  0.00\n",
      "HETATM   11  C   UNL     1       0.598  26.736   9.402  1.00  0.00\n",
      "HETATM   12  C   UNL     1      -0.349  28.800   8.663  1.00  0.00\n",
      "HETATM   13  O   UNL     1       1.369  25.815   9.606  1.00  0.00\n",
      "HETATM   14  N   UNL     1      -0.695  26.884   9.881  1.00  0.00\n",
      "HETATM   15  C   UNL     1      -1.251  28.095   9.469  1.00  0.00\n",
      "HETATM   16  H   UNL     1      -1.140  26.204  10.478  1.00  0.00\n",
      "HETATM   17  C   UNL     1      -2.490  28.599   9.804  1.00  0.00\n",
      "HETATM   18  C   UNL     1      -2.818  29.867   9.316  1.00  0.00\n",
      "HETATM   19  C   UNL     1      -1.913  30.589   8.513  1.00  0.00\n",
      "HETATM   20  C   UNL     1      -0.665  30.055   8.178  1.00  0.00\n",
      "ENDBRANCH   7   9\n",
      "ENDBRANCH   1   7\n",
      "BRANCH   4  21\n",
      "HETATM   21  S   UNL     1       6.024  24.367   3.782  1.00  0.00\n",
      "HETATM   22  O   UNL     1       7.378  24.643   4.213  1.00  0.00\n",
      "HETATM   23  O   UNL     1       5.513  23.011   3.777  1.00  0.00\n",
      "BRANCH  21  24\n",
      "HETATM   24  N   UNL     1       5.872  24.884   2.216  1.00  0.00\n",
      "HETATM   25  H   UNL     1       4.923  25.126   1.946  1.00  0.00\n",
      "BRANCH  24  26\n",
      "HETATM   26  C   UNL     1       6.843  25.627   1.537  1.00  0.00\n",
      "HETATM   27  N   UNL     1       7.343  26.631   2.218  1.00  0.00\n",
      "HETATM   28  C   UNL     1       8.436  27.142   1.553  1.00  0.00\n",
      "ATOM     29  HN  UNL     1       6.978  26.980   3.104  1.00  0.00\n",
      "HETATM   30  C   UNL     1       8.724  26.541   0.347  1.00  0.00\n",
      "HETATM   31  S   UNL     1       7.512  25.369  -0.011  1.00  0.00\n",
      "ENDBRANCH  24  26\n",
      "ENDBRANCH  21  24\n",
      "ENDBRANCH   4  21\n",
      "TORSDOF 5\n",
      "ENDMDL\n",
      "\n"
     ]
    }
   ],
   "source": [
    "print(pdb_block)"
   ]
  },
  {
   "cell_type": "code",
   "execution_count": 13,
   "id": "035dbaa2",
   "metadata": {},
   "outputs": [
    {
     "data": {
      "text/plain": [
       "0"
      ]
     },
     "execution_count": 13,
     "metadata": {},
     "output_type": "execute_result"
    }
   ],
   "source": [
    "import rdkit \n",
    "from rdkit import Chem\n",
    "from rdkit.Chem import AllChem, Draw\n",
    "mol = Chem.MolFromSmiles('CCCCCCCCC1=CC=C(C=C1)CCC(CO)(CO)N')\n",
    "e3d = Chem.AddHs(mol)\n",
    "AllChem.EmbedMolecule(e3d)"
   ]
  },
  {
   "cell_type": "code",
   "execution_count": 14,
   "id": "e6a0a98c",
   "metadata": {
    "scrolled": true
   },
   "outputs": [
    {
     "name": "stdout",
     "output_type": "stream",
     "text": [
      "Before:  [7.0413017  1.16015149 1.61377229]\n",
      "After: [ 3.61382918 -0.85268053  1.60000288]\n"
     ]
    }
   ],
   "source": [
    "lig = e3d.GetConformer()\n",
    "pos = lig.GetPositions()\n",
    "print('Before: ', pos[0])\n",
    "pos[0] = [ 3.61382918, -0.85268053,  1.60000288]\n",
    "print('After:', pos[0])"
   ]
  },
  {
   "cell_type": "code",
   "execution_count": 16,
   "id": "1ad1673c",
   "metadata": {},
   "outputs": [],
   "source": [
    "from rdkit.Geometry import Point3D\n",
    "for i in range(mol.GetNumAtoms()):\n",
    "    x, y, z = pos[i]\n",
    "    lig.SetAtomPosition(i, Point3D(x, y, z))\n",
    "    "
   ]
  },
  {
   "cell_type": "code",
   "execution_count": 17,
   "id": "d30f3a75",
   "metadata": {},
   "outputs": [
    {
     "name": "stdout",
     "output_type": "stream",
     "text": [
      "[ 3.61382918 -0.85268053  1.60000288]\n"
     ]
    }
   ],
   "source": [
    "print(lig.GetPositions()[0])"
   ]
  },
  {
   "cell_type": "code",
   "execution_count": 18,
   "id": "06ab1d55",
   "metadata": {},
   "outputs": [
    {
     "name": "stdout",
     "output_type": "stream",
     "text": [
      "(55, 3)\n"
     ]
    }
   ],
   "source": [
    "import numpy as np\n",
    "pos = pos.astype(np.double)\n",
    "print(pos.shape)"
   ]
  },
  {
   "cell_type": "code",
   "execution_count": 19,
   "id": "6b76db1f",
   "metadata": {},
   "outputs": [
    {
     "data": {
      "text/plain": [
       "0.2"
      ]
     },
     "execution_count": 19,
     "metadata": {},
     "output_type": "execute_result"
    }
   ],
   "source": [
    "from rdkit.Geometry import Point3D\n",
    "g = Point3D(0.1, 0.2, 0.3)\n",
    "g.y"
   ]
  },
  {
   "cell_type": "code",
   "execution_count": 20,
   "id": "8fb6d5aa",
   "metadata": {},
   "outputs": [
    {
     "data": {
      "image/png": "[encoded data removed]",
      "text/plain": [
       "<PIL.PngImagePlugin.PngImageFile image mode=RGB size=300x300>"
      ]
     },
     "execution_count": 20,
     "metadata": {},
     "output_type": "execute_result"
    }
   ],
   "source": [
    "mol = Chem.MolFromSmiles('CCCCCCCCC1=CC=C(C=C1)CCC(CO)(CO)N')\n",
    "ps = AllChem.ETKDGv2()\n",
    "mol = Chem.AddHs(mol)\n",
    "AllChem.EmbedMolecule(mol, ps)\n",
    "Draw.MolToImage(mol)"
   ]
  },
  {
   "cell_type": "code",
   "execution_count": 21,
   "id": "ccd615c1",
   "metadata": {},
   "outputs": [
    {
     "name": "stdout",
     "output_type": "stream",
     "text": [
      "['ETversion', 'SetBoundsMat', 'SetCPCI', '__class__', '__delattr__', '__dict__', '__dir__', '__doc__', '__eq__', '__format__', '__ge__', '__getattribute__', '__gt__', '__hash__', '__init__', '__init_subclass__', '__instance_size__', '__le__', '__lt__', '__module__', '__ne__', '__new__', '__reduce__', '__reduce_ex__', '__repr__', '__setattr__', '__sizeof__', '__str__', '__subclasshook__', '__weakref__', 'boundsMatForceScaling', 'boxSizeMult', 'clearConfs', 'embedFragmentsSeparately', 'enforceChirality', 'forceTransAmides', 'ignoreSmoothingFailures', 'maxIterations', 'numThreads', 'numZeroFail', 'onlyHeavyAtomsForRMS', 'optimizerForceTol', 'pruneRmsThresh', 'randNegEig', 'randomSeed', 'useBasicKnowledge', 'useExpTorsionAnglePrefs', 'useMacrocycleTorsions', 'useRandomCoords', 'useSmallRingTorsions', 'useSymmetryForPruning', 'verbose']\n"
     ]
    }
   ],
   "source": [
    "ps = AllChem.ETKDGv2()\n",
    "print(dir(ps))"
   ]
  },
  {
   "cell_type": "code",
   "execution_count": 22,
   "id": "d7a6faa5",
   "metadata": {},
   "outputs": [
    {
     "data": {
      "text/plain": [
       "True"
      ]
     },
     "execution_count": 22,
     "metadata": {},
     "output_type": "execute_result"
    }
   ],
   "source": [
    "ps.useBasicKnowledge"
   ]
  },
  {
   "cell_type": "code",
   "execution_count": 23,
   "id": "703d191b",
   "metadata": {
    "scrolled": true
   },
   "outputs": [
    {
     "data": {
      "text/plain": [
       "1"
      ]
     },
     "execution_count": 23,
     "metadata": {},
     "output_type": "execute_result"
    }
   ],
   "source": [
    "mol.GetNumConformers()"
   ]
  },
  {
   "cell_type": "code",
   "execution_count": 24,
   "id": "20570345",
   "metadata": {},
   "outputs": [
    {
     "data": {
      "text/plain": [
       "array([[ 6.11147767, -0.3100572 , -0.14808106],\n",
       "       [ 5.65474792, -1.65243311,  0.29264038],\n",
       "       [ 4.17657419, -1.69602948,  0.55809228],\n",
       "       [ 3.61382918, -0.85268053,  1.60000288],\n",
       "       [ 3.59804393,  0.58170253,  1.61620686],\n",
       "       [ 2.90050736,  1.52873774,  0.79170725],\n",
       "       [ 2.94431546,  1.7855677 , -0.62666212],\n",
       "       [ 2.48862464,  0.77183716, -1.61932831],\n",
       "       [ 1.05178717,  0.39700442, -1.42660106],\n",
       "       [ 0.63403645, -0.64888577, -0.64148166],\n",
       "       [-0.72462511, -0.95969013, -0.48502321],\n",
       "       [-1.64465292, -0.17898568, -1.14792124],\n",
       "       [-1.23467905,  0.87681663, -1.94136242],\n",
       "       [ 0.10103598,  1.18039509, -2.09357258],\n",
       "       [-3.09407834, -0.52004951, -0.97374603],\n",
       "       [-3.5971804 ,  0.24711736,  0.19934336],\n",
       "       [-5.04207518,  0.04473025,  0.53455571],\n",
       "       [-5.95316064,  0.44148059, -0.61222684],\n",
       "       [-5.69492454,  1.75535795, -1.00949605],\n",
       "       [-5.393272  , -1.33485069,  1.00259953],\n",
       "       [-5.1618303 , -2.33816   ,  0.08999816],\n",
       "       [-5.35421487,  1.0029112 ,  1.61456379],\n",
       "       [ 6.83725097, -0.40989833, -1.01103583],\n",
       "       [ 5.25487632,  0.2975008 , -0.45326151],\n",
       "       [ 6.61506364,  0.19990559,  0.70277418],\n",
       "       [ 6.23348391, -2.02221591,  1.18637711],\n",
       "       [ 5.83421989, -2.35028163, -0.57502388],\n",
       "       [ 3.93795512, -2.8063951 ,  0.90152863],\n",
       "       [ 3.68567408, -1.62421414, -0.43109037],\n",
       "       [ 4.1985833 , -1.16428638,  2.5771346 ],\n",
       "       [ 2.57936251, -1.28378408,  1.93735297],\n",
       "       [ 3.24910284,  0.89534019,  2.72870587],\n",
       "       [ 4.68492338,  0.97145936,  1.7315932 ],\n",
       "       [ 3.14441379,  2.57940351,  1.29075043],\n",
       "       [ 1.7553044 ,  1.53737546,  1.11287685],\n",
       "       [ 3.94558528,  2.19548546, -0.98627404],\n",
       "       [ 2.2827643 ,  2.71734788, -0.859199  ],\n",
       "       [ 2.54371874,  1.28858659, -2.66743237],\n",
       "       [ 3.07895907, -0.10619846, -1.76635928],\n",
       "       [ 1.36660243, -1.25462908, -0.12947615],\n",
       "       [-0.99488449, -1.79747009,  0.14801206],\n",
       "       [-2.01378479,  1.44979252, -2.43441475],\n",
       "       [ 0.42473497,  2.00504598, -2.71308895],\n",
       "       [-3.65279569, -0.24013884, -1.90632199],\n",
       "       [-3.20115576, -1.61728485, -0.88643037],\n",
       "       [-3.49005715,  1.34010713, -0.06081908],\n",
       "       [-2.96692925,  0.02876658,  1.07645323],\n",
       "       [-5.84876089, -0.26410744, -1.45920318],\n",
       "       [-6.99943741,  0.41223511, -0.26263277],\n",
       "       [-5.82398416,  2.31247043, -0.19783171],\n",
       "       [-6.48081746, -1.33472628,  1.25826574],\n",
       "       [-4.79992718, -1.52402555,  1.94178602],\n",
       "       [-5.97933156, -2.89851244, -0.09300833],\n",
       "       [-4.6779928 ,  1.8227023 ,  1.5644914 ],\n",
       "       [-5.10300695,  0.52280719,  2.51908779]])"
      ]
     },
     "execution_count": 24,
     "metadata": {},
     "output_type": "execute_result"
    }
   ],
   "source": [
    "lig = mol.GetConformer()\n",
    "lig.GetPositions()"
   ]
  },
  {
   "cell_type": "code",
   "execution_count": 25,
   "id": "98fca89d",
   "metadata": {},
   "outputs": [
    {
     "data": {
      "text/plain": [
       "1"
      ]
     },
     "execution_count": 25,
     "metadata": {},
     "output_type": "execute_result"
    }
   ],
   "source": [
    "AllChem.MMFFOptimizeMolecule(e3d)"
   ]
  },
  {
   "cell_type": "code",
   "execution_count": 26,
   "id": "a72365e6",
   "metadata": {},
   "outputs": [
    {
     "data": {
      "image/png": "[encoded data removed]",
      "text/plain": [
       "<PIL.PngImagePlugin.PngImageFile image mode=RGB size=300x300>"
      ]
     },
     "execution_count": 26,
     "metadata": {},
     "output_type": "execute_result"
    }
   ],
   "source": [
    "Draw.MolToImage(e3d)"
   ]
  },
  {
   "cell_type": "code",
   "execution_count": 27,
   "id": "91133736",
   "metadata": {},
   "outputs": [
    {
     "name": "stdout",
     "output_type": "stream",
     "text": [
      "['AddConformer', 'ClearComputedProps', 'ClearProp', 'Compute2DCoords', 'ComputeGasteigerCharges', 'Debug', 'GetAromaticAtoms', 'GetAtomWithIdx', 'GetAtoms', 'GetAtomsMatchingQuery', 'GetBondBetweenAtoms', 'GetBondWithIdx', 'GetBonds', 'GetBoolProp', 'GetConformer', 'GetConformers', 'GetDoubleProp', 'GetIntProp', 'GetNumAtoms', 'GetNumBonds', 'GetNumConformers', 'GetNumHeavyAtoms', 'GetProp', 'GetPropNames', 'GetPropsAsDict', 'GetRingInfo', 'GetStereoGroups', 'GetSubstructMatch', 'GetSubstructMatches', 'GetUnsignedProp', 'HasProp', 'HasSubstructMatch', 'NeedsUpdatePropertyCache', 'RemoveAllConformers', 'RemoveConformer', 'SetBoolProp', 'SetDoubleProp', 'SetIntProp', 'SetProp', 'SetUnsignedProp', 'ToBinary', 'UpdatePropertyCache', '__DebugMol', '__GetSubstructMatch', '__GetSubstructMatches', '__class__', '__copy__', '__deepcopy__', '__delattr__', '__dict__', '__dir__', '__doc__', '__eq__', '__format__', '__ge__', '__getattribute__', '__getinitargs__', '__gt__', '__hash__', '__init__', '__init_subclass__', '__instance_size__', '__le__', '__lt__', '__module__', '__ne__', '__new__', '__reduce__', '__reduce_ex__', '__repr__', '__safe_for_unpickling__', '__setattr__', '__sizeof__', '__str__', '__subclasshook__', '__weakref__', '_repr_html_', '_repr_png_', '_repr_svg_']\n"
     ]
    }
   ],
   "source": [
    "print(dir(e3d))"
   ]
  },
  {
   "cell_type": "code",
   "execution_count": 28,
   "id": "ec6333af",
   "metadata": {},
   "outputs": [
    {
     "data": {
      "text/plain": [
       "1"
      ]
     },
     "execution_count": 28,
     "metadata": {},
     "output_type": "execute_result"
    }
   ],
   "source": [
    "e3d.GetNumConformers()"
   ]
  },
  {
   "cell_type": "code",
   "execution_count": 29,
   "id": "23d0a585",
   "metadata": {},
   "outputs": [
    {
     "name": "stdout",
     "output_type": "stream",
     "text": [
      "[[ 7.57535397e+00  6.76725756e-01  1.60954730e+00]\n",
      " [ 7.20411221e+00 -7.76341756e-01  1.35891957e+00]\n",
      " [ 6.77930134e+00 -1.06040384e+00 -8.38805314e-02]\n",
      " [ 5.57399543e+00 -2.63979009e-01 -5.96462396e-01]\n",
      " [ 4.29084260e+00 -5.26651806e-01  1.95723370e-01]\n",
      " [ 3.08482767e+00  2.70460032e-01 -3.14716391e-01]\n",
      " [ 2.60665338e+00 -1.68593619e-01 -1.70312027e+00]\n",
      " [ 1.37686826e+00  6.11108674e-01 -2.18555039e+00]\n",
      " [ 1.19652815e-01  3.17062104e-01 -1.40486950e+00]\n",
      " [-5.26744266e-01 -9.18667881e-01 -1.53490971e+00]\n",
      " [-1.68786099e+00 -1.19372485e+00 -8.08690172e-01]\n",
      " [-2.22147301e+00 -2.38601027e-01  6.41531174e-02]\n",
      " [-1.58052975e+00  9.99767598e-01  1.89227042e-01]\n",
      " [-4.19982717e-01  1.27450445e+00 -5.37514565e-01]\n",
      " [-3.48568895e+00 -5.23355477e-01  8.39332185e-01]\n",
      " [-4.72385671e+00  4.62425611e-03  1.02651984e-01]\n",
      " [-6.08367931e+00 -2.91364578e-01  7.97001507e-01]\n",
      " [-7.22217900e+00  3.75895282e-01 -3.03222555e-02]\n",
      " [-7.12272178e+00  1.80119288e+00 -5.50260382e-03]\n",
      " [-6.12310456e+00  2.69438574e-01  2.24742407e+00]\n",
      " [-5.72026691e+00  1.63508186e+00  2.31460456e+00]\n",
      " [-6.33932399e+00 -1.74901058e+00  8.20786503e-01]\n",
      " [ 8.34579243e+00  1.01233249e+00  9.08231634e-01]\n",
      " [ 7.96748135e+00  7.94293351e-01  2.62488738e+00]\n",
      " [ 6.70692862e+00  1.33488981e+00  1.51241024e+00]\n",
      " [ 6.41581549e+00 -1.07878605e+00  2.05661977e+00]\n",
      " [ 8.07469956e+00 -1.40247558e+00  1.58965313e+00]\n",
      " [ 7.63045368e+00 -8.60212962e-01 -7.46938016e-01]\n",
      " [ 6.56289775e+00 -2.13194400e+00 -1.77518727e-01]\n",
      " [ 5.80195556e+00  8.07924372e-01 -5.92125934e-01]\n",
      " [ 5.42149583e+00 -5.42607381e-01 -1.64522913e+00]\n",
      " [ 4.44696244e+00 -2.49997343e-01  1.24448473e+00]\n",
      " [ 4.05706100e+00 -1.59793527e+00  1.81064451e-01]\n",
      " [ 3.32893553e+00  1.33960543e+00 -3.26754680e-01]\n",
      " [ 2.27177366e+00  1.39633329e-01  4.08950594e-01]\n",
      " [ 2.39821578e+00 -1.24515696e+00 -1.69832307e+00]\n",
      " [ 3.40748784e+00 -3.77111234e-03 -2.43257725e+00]\n",
      " [ 1.59175764e+00  1.68699693e+00 -2.16652098e+00]\n",
      " [ 1.18773294e+00  3.64965290e-01 -3.23852349e+00]\n",
      " [-1.28851134e-01 -1.67638878e+00 -2.20603795e+00]\n",
      " [-2.17158278e+00 -2.15979428e+00 -9.29623648e-01]\n",
      " [-1.98394751e+00  1.75979498e+00  8.55676542e-01]\n",
      " [ 6.09609216e-02  2.24257212e+00 -4.17821071e-01]\n",
      " [-3.39720034e+00 -6.59883563e-02  1.83158118e+00]\n",
      " [-3.56357784e+00 -1.60367270e+00  1.00770079e+00]\n",
      " [-4.61098305e+00  1.08780947e+00 -3.97270750e-02]\n",
      " [-4.74238857e+00 -4.18670674e-01 -9.12085894e-01]\n",
      " [-7.18688589e+00  4.89420801e-02 -1.07608679e+00]\n",
      " [-8.20378025e+00  1.07425477e-01  3.77526242e-01]\n",
      " [-7.83068916e+00  2.13684094e+00 -5.85420958e-01]\n",
      " [-5.45965290e+00 -2.97754274e-01  2.90914245e+00]\n",
      " [-7.13303873e+00  1.93912633e-01  2.66717264e+00]\n",
      " [-6.19717505e+00  2.09067808e+00  1.58695939e+00]\n",
      " [-6.17825422e+00 -2.14207338e+00 -1.06921230e-01]\n",
      " [-5.67206883e+00 -2.20938675e+00  1.43990205e+00]]\n"
     ]
    }
   ],
   "source": [
    "mol = e3d.GetConformers()\n",
    "for m in mol:\n",
    "    print(m.GetPositions())"
   ]
  },
  {
   "cell_type": "code",
   "execution_count": 32,
   "id": "607957e3",
   "metadata": {
    "scrolled": true
   },
   "outputs": [
    {
     "data": {
      "text/plain": [
       "array([[ 7.36797502,  2.12800502, -1.11591962],\n",
       "       [ 5.98630878,  1.67766097, -0.66163734],\n",
       "       [ 5.76128619,  0.25969547, -1.07967161],\n",
       "       [ 4.39349054, -0.27196144, -0.67154309],\n",
       "       [ 4.25157406, -0.21522476,  0.82399567]])"
      ]
     },
     "execution_count": 32,
     "metadata": {},
     "output_type": "execute_result"
    }
   ],
   "source": [
    "import copy\n",
    "mol = Chem.MolFromSmiles('CCCCCCCCC1=CC=C(C=C1)CCC(CO)(CO)N')\n",
    "ps = AllChem.ETKDGv2()\n",
    "e3d = Chem.AddHs(mol)\n",
    "AllChem.EmbedMolecule(e3d, ps)\n",
    "e3d.GetConformer()\n",
    "mol1 = copy.deepcopy(e3d)\n",
    "mol1.GetConformer().GetPositions()[:5]"
   ]
  },
  {
   "cell_type": "code",
   "execution_count": 46,
   "id": "8795de3e",
   "metadata": {},
   "outputs": [
    {
     "data": {
      "text/plain": [
       "array([], shape=(2, 0), dtype=int64)"
      ]
     },
     "execution_count": 46,
     "metadata": {},
     "output_type": "execute_result"
    }
   ],
   "source": [
    "xyz = mol1.GetConformer().GetPositions()[:5]\n",
    "nei = np.array(np.where(xyz<-51))\n",
    "nei"
   ]
  },
  {
   "cell_type": "code",
   "execution_count": 49,
   "id": "1f4b35fa",
   "metadata": {},
   "outputs": [
    {
     "data": {
      "text/plain": [
       "(0,)"
      ]
     },
     "execution_count": 49,
     "metadata": {},
     "output_type": "execute_result"
    }
   ],
   "source": [
    "x = np.unique(nei[1, :])\n",
    "x.shape"
   ]
  },
  {
   "cell_type": "code",
   "execution_count": 33,
   "id": "14d75c6b",
   "metadata": {},
   "outputs": [
    {
     "data": {
      "text/plain": [
       "array([[ 8.05050113,  1.93435829, -1.21224769],\n",
       "       [ 6.67525693,  1.59630729, -0.6566064 ],\n",
       "       [ 6.24487433,  0.18444538, -1.05652566],\n",
       "       [ 4.81730004, -0.16537321, -0.62332455],\n",
       "       [ 4.65266193, -0.27020889,  0.8952805 ]])"
      ]
     },
     "execution_count": 33,
     "metadata": {},
     "output_type": "execute_result"
    }
   ],
   "source": [
    "import copy\n",
    "AllChem.MMFFOptimizeMolecule(e3d)\n",
    "e3d.GetConformer().GetPositions()[:5]"
   ]
  },
  {
   "cell_type": "code",
   "execution_count": 34,
   "id": "e679f56e",
   "metadata": {
    "scrolled": true
   },
   "outputs": [
    {
     "data": {
      "text/plain": [
       "array([[ 8.05050113,  1.93435829, -1.21224769],\n",
       "       [ 6.67525693,  1.59630729, -0.6566064 ],\n",
       "       [ 6.24487433,  0.18444538, -1.05652566],\n",
       "       [ 4.81730004, -0.16537321, -0.62332455],\n",
       "       [ 4.65266193, -0.27020889,  0.8952805 ]])"
      ]
     },
     "execution_count": 34,
     "metadata": {},
     "output_type": "execute_result"
    }
   ],
   "source": [
    "mol2 = copy.deepcopy(e3d)\n",
    "mol2.AddConformer(mol1.GetConformer())\n",
    "rms_list = []\n",
    "AllChem.AlignMolConformers(mol2, RMSlist=rms_list)\n",
    "mol2.GetConformers()[0].GetPositions()[:5]"
   ]
  },
  {
   "cell_type": "code",
   "execution_count": null,
   "id": "d8a1a23b",
   "metadata": {
    "scrolled": true
   },
   "outputs": [],
   "source": [
    "mol2.GetConformers()[1].GetPositions()[:5]"
   ]
  },
  {
   "cell_type": "code",
   "execution_count": null,
   "id": "32b4c4ff",
   "metadata": {},
   "outputs": [],
   "source": [
    "print(rms_list)"
   ]
  },
  {
   "cell_type": "code",
   "execution_count": 2,
   "id": "3976dcfc",
   "metadata": {},
   "outputs": [],
   "source": [
    "import torch\n",
    "from e3nn import o3, nn\n",
    "from e3nn.math import soft_one_hot_linspace\n",
    "from torch_cluster import radius_graph\n",
    "from torch_scatter import scatter\n",
    "\n",
    "irreps_input = o3.Irreps('1x0e+10x1e')\n",
    "irreps_output = o3.Irreps('6x1o + 2x2e')"
   ]
  },
  {
   "cell_type": "code",
   "execution_count": 22,
   "id": "601d029a",
   "metadata": {},
   "outputs": [],
   "source": [
    "num_nodes = 100\n",
    "pos = torch.randn(num_nodes, 3)\n",
    "max_radius = 1.\n",
    "edge_src, edge_dst = radius_graph(pos, max_radius, max_num_neighbors=num_nodes-1)"
   ]
  },
  {
   "cell_type": "code",
   "execution_count": 23,
   "id": "f9d444f9",
   "metadata": {},
   "outputs": [
    {
     "name": "stdout",
     "output_type": "stream",
     "text": [
      "torch.Size([784])\n",
      "7.84\n"
     ]
    }
   ],
   "source": [
    "print(edge_src.shape)\n",
    "edge_vec = pos[edge_dst] - pos[edge_src]\n",
    "num_neighbors = len(edge_src) / num_nodes\n",
    "print(num_neighbors)"
   ]
  },
  {
   "cell_type": "code",
   "execution_count": 24,
   "id": "1c25c087",
   "metadata": {},
   "outputs": [
    {
     "name": "stdout",
     "output_type": "stream",
     "text": [
      "torch.Size([100, 31])\n",
      "tensor([ 0.9942,  0.2664, -0.1267,  0.8486,  0.4440, -1.0382,  0.6831, -0.3830,\n",
      "         0.9976, -0.9702, -0.9935, -1.1990, -1.4441,  0.1779, -1.2062,  0.4347,\n",
      "        -0.2723, -1.9197,  1.1969,  0.6247, -0.2455,  0.0295,  1.0827,  0.6021,\n",
      "         0.4996, -0.5422, -0.5002,  1.5438,  1.0915,  0.0503,  0.3668])\n"
     ]
    }
   ],
   "source": [
    "f_in = irreps_input.randn(num_nodes, -1)\n",
    "\n",
    "print(f_in.shape)\n",
    "print(f_in[0])"
   ]
  },
  {
   "cell_type": "code",
   "execution_count": 25,
   "id": "bb89ac42",
   "metadata": {},
   "outputs": [
    {
     "data": {
      "text/plain": [
       "torch.Size([100, 31])"
      ]
     },
     "execution_count": 25,
     "metadata": {},
     "output_type": "execute_result"
    }
   ],
   "source": [
    "f_in.shape"
   ]
  },
  {
   "cell_type": "code",
   "execution_count": 26,
   "id": "de6359bc",
   "metadata": {},
   "outputs": [
    {
     "name": "stdout",
     "output_type": "stream",
     "text": [
      "1x0e+1x1o+1x2e\n"
     ]
    },
    {
     "data": {
      "text/plain": [
       "tensor(1.0000)"
      ]
     },
     "execution_count": 26,
     "metadata": {},
     "output_type": "execute_result"
    }
   ],
   "source": [
    "irreps_sh = o3.Irreps.spherical_harmonics(lmax=2)\n",
    "print(irreps_sh)\n",
    "\n",
    "sh = o3.spherical_harmonics(irreps_sh, edge_vec, normalize=True, normalization='component')\n",
    "# normalize=True ensure that x is divided by |x| before computing the sh\n",
    "\n",
    "sh.pow(2).mean()  # should be close to 1"
   ]
  },
  {
   "cell_type": "code",
   "execution_count": 27,
   "id": "34d048e7",
   "metadata": {},
   "outputs": [
    {
     "name": "stdout",
     "output_type": "stream",
     "text": [
      "FullyConnectedTensorProduct(1x0e+10x1e x 1x0e+1x1o+1x2e -> 6x1o+2x2e | 88 paths | 88 weights) needs 88 weights\n"
     ]
    }
   ],
   "source": [
    "tp = o3.FullyConnectedTensorProduct(irreps_input, irreps_sh, irreps_output, shared_weights=False)\n",
    "\n",
    "print(f\"{tp} needs {tp.weight_numel} weights\")\n"
   ]
  },
  {
   "cell_type": "code",
   "execution_count": 28,
   "id": "a1f01047",
   "metadata": {},
   "outputs": [
    {
     "name": "stdout",
     "output_type": "stream",
     "text": [
      "torch.Size([784, 10])\n"
     ]
    },
    {
     "data": {
      "text/plain": [
       "tensor(0.8474)"
      ]
     },
     "execution_count": 28,
     "metadata": {},
     "output_type": "execute_result"
    }
   ],
   "source": [
    "num_basis = 10\n",
    "edge_length_embedding = soft_one_hot_linspace(\n",
    "    edge_vec.norm(dim=1),\n",
    "    start=0.0,\n",
    "    end=max_radius,\n",
    "    number=num_basis,\n",
    "    basis='smooth_finite',\n",
    "    cutoff=True,\n",
    ")\n",
    "edge_length_embedding = edge_length_embedding.mul(num_basis**0.5)\n",
    "\n",
    "print(edge_length_embedding.shape)\n",
    "edge_length_embedding.pow(2).mean()  # the second moment"
   ]
  },
  {
   "cell_type": "code",
   "execution_count": 29,
   "id": "7cce23c2",
   "metadata": {},
   "outputs": [
    {
     "name": "stdout",
     "output_type": "stream",
     "text": [
      "torch.Size([784, 88])\n",
      "784 88\n",
      "tensor(-0.0981, grad_fn=<MeanBackward0>) tensor(0.8884, grad_fn=<StdBackward0>)\n"
     ]
    }
   ],
   "source": [
    "fc = nn.FullyConnectedNet([num_basis, 16, tp.weight_numel], torch.relu)\n",
    "weight = fc(edge_length_embedding)\n",
    "\n",
    "print(weight.shape)\n",
    "print(len(edge_src), tp.weight_numel)\n",
    "\n",
    "# For a proper notmalization, the weights also need to be mean 0\n",
    "print(weight.mean(), weight.std())  # should close to 0 and 1"
   ]
  },
  {
   "cell_type": "code",
   "execution_count": 30,
   "id": "2486651e",
   "metadata": {},
   "outputs": [
    {
     "name": "stdout",
     "output_type": "stream",
     "text": [
      "torch.Size([784, 28])\n",
      "tensor(0.8296, grad_fn=<MeanBackward0>)\n"
     ]
    }
   ],
   "source": [
    "summand = tp(f_in[edge_src], sh, weight)\n",
    "\n",
    "print(summand.shape)\n",
    "print(summand.pow(2).mean())  # should be close to 1"
   ]
  },
  {
   "cell_type": "code",
   "execution_count": 31,
   "id": "f830be2f",
   "metadata": {},
   "outputs": [
    {
     "data": {
      "text/plain": [
       "tensor(0.8502, grad_fn=<MeanBackward0>)"
      ]
     },
     "execution_count": 31,
     "metadata": {},
     "output_type": "execute_result"
    }
   ],
   "source": [
    "f_out = f_out.div(num_neighbors**0.5)\n",
    "\n",
    "f_out.pow(2).mean()  # should be close to 1"
   ]
  },
  {
   "cell_type": "code",
   "execution_count": 32,
   "id": "bffdd143",
   "metadata": {
    "scrolled": true
   },
   "outputs": [
    {
     "data": {
      "text/plain": [
       "torch.Size([100, 28])"
      ]
     },
     "execution_count": 32,
     "metadata": {},
     "output_type": "execute_result"
    }
   ],
   "source": [
    "f_out.shape"
   ]
  },
  {
   "cell_type": "code",
   "execution_count": 17,
   "id": "1a46f8b1",
   "metadata": {},
   "outputs": [
    {
     "data": {
      "text/plain": [
       "FullTensorProduct(1x1o x 1x1e -> 1x0o+1x1o+1x2o | 3 paths | 0 weights)"
      ]
     },
     "execution_count": 17,
     "metadata": {},
     "output_type": "execute_result"
    }
   ],
   "source": [
    "sh_irreps = o3.Irreps.spherical_harmonics(lmax=1)\n",
    "ttp = o3.FullTensorProduct('1o', \"1e\")\n",
    "ttp"
   ]
  },
  {
   "cell_type": "code",
   "execution_count": 6,
   "id": "713107fa",
   "metadata": {},
   "outputs": [
    {
     "data": {
      "text/plain": [
       "FullyConnectedTensorProduct(1x0e+1x1o x 1x1e -> 1x2o | 1 paths | 1 weights)"
      ]
     },
     "execution_count": 6,
     "metadata": {},
     "output_type": "execute_result"
    }
   ],
   "source": [
    "o3.FullyConnectedTensorProduct(sh_irreps, '1x1e', '1x2o')"
   ]
  },
  {
   "cell_type": "code",
   "execution_count": 14,
   "id": "6be603ca",
   "metadata": {
    "scrolled": true
   },
   "outputs": [
    {
     "name": "stdout",
     "output_type": "stream",
     "text": [
      "torch.Size([6])\n",
      "-0.5\n",
      "torch.Size([6, 6])\n"
     ]
    },
    {
     "data": {
      "text/plain": [
       "array([[1.0000000e+00, 6.0653067e-01, 1.3533528e-01, 1.1108996e-02,\n",
       "        3.3546262e-04, 3.7266532e-06],\n",
       "       [6.0653067e-01, 1.0000000e+00, 6.0653067e-01, 1.3533528e-01,\n",
       "        1.1108996e-02, 3.3546262e-04],\n",
       "       [1.3533528e-01, 6.0653067e-01, 1.0000000e+00, 6.0653067e-01,\n",
       "        1.3533528e-01, 1.1108996e-02],\n",
       "       [1.1108996e-02, 1.3533528e-01, 6.0653067e-01, 1.0000000e+00,\n",
       "        6.0653067e-01, 1.3533528e-01],\n",
       "       [3.3546262e-04, 1.1108996e-02, 1.3533528e-01, 6.0653067e-01,\n",
       "        1.0000000e+00, 6.0653067e-01],\n",
       "       [3.7266532e-06, 3.3546262e-04, 1.1108996e-02, 1.3533528e-01,\n",
       "        6.0653067e-01, 1.0000000e+00]], dtype=float32)"
      ]
     },
     "execution_count": 14,
     "metadata": {},
     "output_type": "execute_result"
    }
   ],
   "source": [
    "import torch\n",
    "import matplotlib.pyplot as plt\n",
    "\n",
    "class GaussianSmearing(torch.nn.Module):\n",
    "    # used to embed the edge distances\n",
    "    def __init__(self, start=0.0, stop=5.0, num_gaussians=50):\n",
    "        super().__init__()\n",
    "        offset = torch.linspace(start, stop, num_gaussians)\n",
    "        print(offset.shape)\n",
    "\n",
    "        self.coeff = -0.5 / (offset[1] - offset[0]).item() ** 2 # -1/(2*sigma**2)\n",
    "        print(self.coeff)\n",
    "        self.register_buffer('offset', offset)\n",
    "\n",
    "    def forward(self, dist):\n",
    "        dist = dist.view(-1, 1) - self.offset.view(1, -1)\n",
    "        print(dist.shape)\n",
    "        return torch.exp(self.coeff * torch.pow(dist, 2))\n",
    "\n",
    "gs = GaussianSmearing(0., 5., 6)\n",
    "dist = torch.tensor([0,1,2,3,4,5])\n",
    "emb = gs(dist)\n",
    "emb.numpy()"
   ]
  },
  {
   "cell_type": "code",
   "execution_count": null,
   "id": "c637b9fb",
   "metadata": {},
   "outputs": [],
   "source": []
  },
  {
   "cell_type": "code",
   "execution_count": null,
   "id": "7bec5f65",
   "metadata": {},
   "outputs": [],
   "source": []
  },
  {
   "cell_type": "code",
   "execution_count": 35,
   "id": "f5b04b78",
   "metadata": {},
   "outputs": [
    {
     "name": "stdout",
     "output_type": "stream",
     "text": [
      "43.45879896760936\n"
     ]
    },
    {
     "data": {
      "text/plain": [
       "43"
      ]
     },
     "execution_count": 35,
     "metadata": {},
     "output_type": "execute_result"
    }
   ],
   "source": [
    "import numpy as np\n",
    "MIN_EPS, MAX_EPS, N_EPS = 0.01, 2, 100\n",
    "X_N = 1000\n",
    "eps = 0.1\n",
    "eps_idx = (np.log10(eps) - np.log10(MIN_EPS)) / (np.log10(MAX_EPS) - np.log10(MIN_EPS)) * N_EPS\n",
    "print(eps_idx)\n",
    "eps_idx = np.clip(np.around(eps_idx).astype(int), a_min=0, a_max=N_EPS - 1)\n",
    "eps_idx"
   ]
  },
  {
   "cell_type": "code",
   "execution_count": 140,
   "id": "e1710cf1",
   "metadata": {},
   "outputs": [],
   "source": [
    "import numpy as np\n",
    "file = r\"C:\\Users\\admin\\Desktop\\.so3_exp_score_norms2.npy\"\n",
    "s = np.load(file)"
   ]
  },
  {
   "cell_type": "code",
   "execution_count": 145,
   "id": "9e328cef",
   "metadata": {},
   "outputs": [
    {
     "data": {
      "text/plain": [
       "array([6.90971024e+01, 6.87315893e+01, 6.83680096e+01, 6.80063529e+01,\n",
       "       6.76466091e+01, 6.72887681e+01, 6.69328199e+01, 6.65787543e+01,\n",
       "       6.62265616e+01, 6.58762316e+01, 6.55277547e+01, 6.51811210e+01,\n",
       "       6.48363207e+01, 6.44933442e+01, 6.41521817e+01, 6.38128238e+01,\n",
       "       6.34752608e+01, 6.31394833e+01, 6.28054818e+01, 6.24732469e+01,\n",
       "       6.21427693e+01, 6.18140397e+01, 6.14870488e+01, 6.11617874e+01,\n",
       "       6.08382465e+01, 6.05164168e+01, 6.01962893e+01, 5.98778551e+01,\n",
       "       5.95611052e+01, 5.92460306e+01, 5.89326225e+01, 5.86208721e+01,\n",
       "       5.83107706e+01, 5.80023093e+01, 5.76954795e+01, 5.73902726e+01,\n",
       "       5.70866800e+01, 5.67846932e+01, 5.64843036e+01, 5.61855029e+01,\n",
       "       5.58882826e+01, 5.55926343e+01, 5.52985497e+01, 5.50060206e+01,\n",
       "       5.47150388e+01, 5.44255960e+01, 5.41376841e+01, 5.38512950e+01,\n",
       "       5.35664207e+01, 5.32830531e+01, 5.30011843e+01, 5.27208063e+01,\n",
       "       5.24419112e+01, 5.21644913e+01, 5.18885387e+01, 5.16140457e+01,\n",
       "       5.13410044e+01, 5.10694073e+01, 5.07992467e+01, 5.05305151e+01,\n",
       "       5.02632047e+01, 4.99973082e+01, 4.97328180e+01, 4.94697268e+01,\n",
       "       4.92080270e+01, 4.89477114e+01, 4.86887726e+01, 4.84312034e+01,\n",
       "       4.81749965e+01, 4.79201446e+01, 4.76666407e+01, 4.74144775e+01,\n",
       "       4.71636481e+01, 4.69141452e+01, 4.66659621e+01, 4.64190915e+01,\n",
       "       4.61735267e+01, 4.59292606e+01, 4.56862865e+01, 4.54445974e+01,\n",
       "       4.52041866e+01, 4.49650474e+01, 4.47271730e+01, 4.44905566e+01,\n",
       "       4.42551917e+01, 4.40210717e+01, 4.37881899e+01, 4.35565397e+01,\n",
       "       4.33261148e+01, 4.30969085e+01, 4.28689146e+01, 4.26421264e+01,\n",
       "       4.24165377e+01, 4.21921421e+01, 4.19689333e+01, 4.17469051e+01,\n",
       "       4.15260511e+01, 4.13063651e+01, 4.10878411e+01, 4.08704728e+01,\n",
       "       4.06542541e+01, 4.04391790e+01, 4.02252413e+01, 4.00124352e+01,\n",
       "       3.98007545e+01, 3.95901933e+01, 3.93807458e+01, 3.91724060e+01,\n",
       "       3.89651680e+01, 3.87590261e+01, 3.85539744e+01, 3.83500071e+01,\n",
       "       3.81471186e+01, 3.79453031e+01, 3.77445550e+01, 3.75448686e+01,\n",
       "       3.73462382e+01, 3.71486583e+01, 3.69521234e+01, 3.67566278e+01,\n",
       "       3.65621662e+01, 3.63687330e+01, 3.61763228e+01, 3.59849302e+01,\n",
       "       3.57945498e+01, 3.56051762e+01, 3.54168042e+01, 3.52294284e+01,\n",
       "       3.50430435e+01, 3.48576443e+01, 3.46732256e+01, 3.44897823e+01,\n",
       "       3.43073090e+01, 3.41258008e+01, 3.39452525e+01, 3.37656590e+01,\n",
       "       3.35870153e+01, 3.34093164e+01, 3.32325572e+01, 3.30567327e+01,\n",
       "       3.28818382e+01, 3.27078685e+01, 3.25348188e+01, 3.23626843e+01,\n",
       "       3.21914602e+01, 3.20211415e+01, 3.18517235e+01, 3.16832015e+01,\n",
       "       3.15155706e+01, 3.13488263e+01, 3.11829637e+01, 3.10179783e+01,\n",
       "       3.08538653e+01, 3.06906202e+01, 3.05282384e+01, 3.03667154e+01,\n",
       "       3.02060465e+01, 3.00462272e+01, 2.98872531e+01, 2.97291197e+01,\n",
       "       2.95718225e+01, 2.94153571e+01, 2.92597191e+01, 2.91049042e+01,\n",
       "       2.89509079e+01, 2.87977260e+01, 2.86453541e+01, 2.84937880e+01,\n",
       "       2.83430233e+01, 2.81930559e+01, 2.80438815e+01, 2.78954960e+01,\n",
       "       2.77478951e+01, 2.76010747e+01, 2.74550307e+01, 2.73097590e+01,\n",
       "       2.71652554e+01, 2.70215160e+01, 2.68785366e+01, 2.67363133e+01,\n",
       "       2.65948420e+01, 2.64541188e+01, 2.63141397e+01, 2.61749008e+01,\n",
       "       2.60363982e+01, 2.58986279e+01, 2.57615861e+01, 2.56252690e+01,\n",
       "       2.54896726e+01, 2.53547932e+01, 2.52206270e+01, 2.50871703e+01,\n",
       "       2.49544192e+01, 2.48223700e+01, 2.46910191e+01, 2.45603626e+01,\n",
       "       2.44303970e+01, 2.43011186e+01, 2.41725238e+01, 2.40446089e+01,\n",
       "       2.39173703e+01, 2.37908045e+01, 2.36649079e+01, 2.35396769e+01,\n",
       "       2.34151081e+01, 2.32911979e+01, 2.31679428e+01, 2.30453395e+01,\n",
       "       2.29233843e+01, 2.28020740e+01, 2.26814050e+01, 2.25613741e+01,\n",
       "       2.24419777e+01, 2.23232126e+01, 2.22050755e+01, 2.20875629e+01,\n",
       "       2.19706716e+01, 2.18543983e+01, 2.17387398e+01, 2.16236927e+01,\n",
       "       2.15092539e+01, 2.13954200e+01, 2.12821881e+01, 2.11695547e+01,\n",
       "       2.10575168e+01, 2.09460712e+01, 2.08352148e+01, 2.07249445e+01,\n",
       "       2.06152571e+01, 2.05061496e+01, 2.03976189e+01, 2.02896620e+01,\n",
       "       2.01822758e+01, 2.00754573e+01, 1.99692034e+01, 1.98635113e+01,\n",
       "       1.97583779e+01, 1.96538003e+01, 1.95497755e+01, 1.94463006e+01,\n",
       "       1.93433727e+01, 1.92409889e+01, 1.91391463e+01, 1.90378421e+01,\n",
       "       1.89370734e+01, 1.88368373e+01, 1.87371312e+01, 1.86379520e+01,\n",
       "       1.85392971e+01, 1.84411637e+01, 1.83435490e+01, 1.82464503e+01,\n",
       "       1.81498648e+01, 1.80537899e+01, 1.79582228e+01, 1.78631608e+01,\n",
       "       1.77686013e+01, 1.76745416e+01, 1.75809790e+01, 1.74879110e+01,\n",
       "       1.73953349e+01, 1.73032480e+01, 1.72116479e+01, 1.71205320e+01,\n",
       "       1.70298976e+01, 1.69397422e+01, 1.68500633e+01, 1.67608584e+01,\n",
       "       1.66721250e+01, 1.65838605e+01, 1.64960624e+01, 1.64087284e+01,\n",
       "       1.63218560e+01, 1.62354426e+01, 1.61494860e+01, 1.60639836e+01,\n",
       "       1.59789330e+01, 1.58943319e+01, 1.58101779e+01, 1.57264686e+01,\n",
       "       1.56432017e+01, 1.55603748e+01, 1.54779855e+01, 1.53960317e+01,\n",
       "       1.53145109e+01, 1.52334209e+01, 1.51527594e+01, 1.50725241e+01,\n",
       "       1.49927127e+01, 1.49133231e+01, 1.48343530e+01, 1.47558001e+01,\n",
       "       1.46776623e+01, 1.45999374e+01, 1.45226231e+01, 1.44457174e+01,\n",
       "       1.43692180e+01, 1.42931227e+01, 1.42174295e+01, 1.41421362e+01,\n",
       "       1.40672407e+01, 1.39927409e+01, 1.39186347e+01, 1.38449200e+01,\n",
       "       1.37715948e+01, 1.36986569e+01, 1.36261043e+01, 1.35539350e+01,\n",
       "       1.34821470e+01, 1.34107382e+01, 1.33397066e+01, 1.32690503e+01,\n",
       "       1.31987671e+01, 1.31288553e+01, 1.30593127e+01, 1.29901375e+01,\n",
       "       1.29213277e+01, 1.28528813e+01, 1.27847964e+01, 1.27170712e+01,\n",
       "       1.26497037e+01, 1.25826920e+01, 1.25160342e+01, 1.24497285e+01,\n",
       "       1.23837730e+01, 1.23181658e+01, 1.22529051e+01, 1.21879891e+01,\n",
       "       1.21234159e+01, 1.20591837e+01, 1.19952907e+01, 1.19317351e+01,\n",
       "       1.18685151e+01, 1.18056290e+01, 1.17430749e+01, 1.16808512e+01,\n",
       "       1.16189560e+01, 1.15573877e+01, 1.14961444e+01, 1.14352246e+01,\n",
       "       1.13746263e+01, 1.13143480e+01, 1.12543880e+01, 1.11947446e+01,\n",
       "       1.11354160e+01, 1.10764006e+01, 1.10176968e+01, 1.09593030e+01,\n",
       "       1.09012174e+01, 1.08434384e+01, 1.07859644e+01, 1.07287938e+01,\n",
       "       1.06719251e+01, 1.06153564e+01, 1.05590864e+01, 1.05031134e+01,\n",
       "       1.04474359e+01, 1.03920522e+01, 1.03369608e+01, 1.02821601e+01,\n",
       "       1.02276487e+01, 1.01734250e+01, 1.01194875e+01, 1.00658346e+01,\n",
       "       1.00124648e+01, 9.95937664e+00, 9.90656864e+00, 9.85403930e+00,\n",
       "       9.80178713e+00, 9.74981067e+00, 9.69810846e+00, 9.64667904e+00,\n",
       "       9.59552097e+00, 9.54463280e+00, 9.49401311e+00, 9.44366046e+00,\n",
       "       9.39357346e+00, 9.34375067e+00, 9.29419071e+00, 9.24489219e+00,\n",
       "       9.19585370e+00, 9.14707388e+00, 9.09855135e+00, 9.05028475e+00,\n",
       "       9.00227272e+00, 8.95451391e+00, 8.90700697e+00, 8.85975057e+00,\n",
       "       8.81274338e+00, 8.76598408e+00, 8.71947135e+00, 8.67320389e+00,\n",
       "       8.62718039e+00, 8.58139955e+00, 8.53586010e+00, 8.49056074e+00,\n",
       "       8.44550021e+00, 8.40067724e+00, 8.35609057e+00, 8.31173893e+00,\n",
       "       8.26762109e+00, 8.22373581e+00, 8.18008184e+00, 8.13665797e+00,\n",
       "       8.09346297e+00, 8.05049562e+00, 8.00775472e+00, 7.96523906e+00,\n",
       "       7.92294745e+00, 7.88087870e+00, 7.83903162e+00, 7.79740504e+00,\n",
       "       7.75599779e+00, 7.71480870e+00, 7.67383662e+00, 7.63308038e+00,\n",
       "       7.59253885e+00, 7.55221089e+00, 7.51209535e+00, 7.47219112e+00,\n",
       "       7.43249707e+00, 7.39301208e+00, 7.35373504e+00, 7.31466484e+00,\n",
       "       7.27580040e+00, 7.23714061e+00, 7.19868439e+00, 7.16043065e+00,\n",
       "       7.12237832e+00, 7.08452634e+00, 7.04687362e+00, 7.00941912e+00,\n",
       "       6.97216179e+00, 6.93510056e+00, 6.89823441e+00, 6.86156229e+00,\n",
       "       6.82508318e+00, 6.78879604e+00, 6.75269985e+00, 6.71679361e+00,\n",
       "       6.68107629e+00, 6.64554691e+00, 6.61020444e+00, 6.57504791e+00,\n",
       "       6.54007632e+00, 6.50528870e+00, 6.47068405e+00, 6.43626141e+00,\n",
       "       6.40201980e+00, 6.36795828e+00, 6.33407587e+00, 6.30037162e+00,\n",
       "       6.26684460e+00, 6.23349384e+00, 6.20031842e+00, 6.16731740e+00,\n",
       "       6.13448985e+00, 6.10183486e+00, 6.06935150e+00, 6.03703885e+00,\n",
       "       6.00489601e+00, 5.97292208e+00, 5.94111615e+00, 5.90947733e+00,\n",
       "       5.87800473e+00, 5.84669747e+00, 5.81555466e+00, 5.78457543e+00,\n",
       "       5.75375890e+00, 5.72310422e+00, 5.69261051e+00, 5.66227692e+00,\n",
       "       5.63210260e+00, 5.60208670e+00, 5.57222837e+00, 5.54252677e+00,\n",
       "       5.51298107e+00, 5.48359043e+00, 5.45435404e+00, 5.42527106e+00,\n",
       "       5.39634068e+00, 5.36756209e+00, 5.33893447e+00, 5.31045702e+00,\n",
       "       5.28212895e+00, 5.25394944e+00, 5.22591771e+00, 5.19803298e+00,\n",
       "       5.17029445e+00, 5.14270134e+00, 5.11525289e+00, 5.08794831e+00,\n",
       "       5.06078685e+00, 5.03376772e+00, 5.00689019e+00, 4.98015348e+00,\n",
       "       4.95355685e+00, 4.92709955e+00, 4.90078083e+00, 4.87459996e+00,\n",
       "       4.84855619e+00, 4.82264880e+00, 4.79687706e+00, 4.77124023e+00,\n",
       "       4.74573761e+00, 4.72036846e+00, 4.69513209e+00, 4.67002777e+00,\n",
       "       4.64505481e+00, 4.62021249e+00, 4.59550013e+00, 4.57091702e+00,\n",
       "       4.54646247e+00, 4.52213580e+00, 4.49793632e+00, 4.47386335e+00,\n",
       "       4.44991622e+00, 4.42609424e+00, 4.40239676e+00, 4.37882309e+00,\n",
       "       4.35537258e+00, 4.33204458e+00, 4.30883841e+00, 4.28575344e+00,\n",
       "       4.26278901e+00, 4.23994447e+00, 4.21721918e+00, 4.19461251e+00,\n",
       "       4.17212381e+00, 4.14975245e+00, 4.12749781e+00, 4.10535925e+00,\n",
       "       4.08333616e+00, 4.06142792e+00, 4.03963390e+00, 4.01795350e+00,\n",
       "       3.99638611e+00, 3.97493111e+00, 3.95358791e+00, 3.93235590e+00,\n",
       "       3.91123449e+00, 3.89022308e+00, 3.86932108e+00, 3.84852791e+00,\n",
       "       3.82784297e+00, 3.80726569e+00, 3.78679548e+00, 3.76643178e+00,\n",
       "       3.74617400e+00, 3.72602158e+00, 3.70597395e+00, 3.68603054e+00,\n",
       "       3.66619081e+00, 3.64645417e+00, 3.62682009e+00, 3.60728801e+00,\n",
       "       3.58785738e+00, 3.56852764e+00, 3.54929827e+00, 3.53016871e+00,\n",
       "       3.51113843e+00, 3.49220690e+00, 3.47337357e+00, 3.45463792e+00,\n",
       "       3.43599943e+00, 3.41745756e+00, 3.39901180e+00, 3.38066162e+00,\n",
       "       3.36240652e+00, 3.34424597e+00, 3.32617947e+00, 3.30820650e+00,\n",
       "       3.29032657e+00, 3.27253916e+00, 3.25484378e+00, 3.23723992e+00,\n",
       "       3.21972710e+00, 3.20230482e+00, 3.18497259e+00, 3.16772992e+00,\n",
       "       3.15057633e+00, 3.13351132e+00, 3.11653443e+00, 3.09964518e+00,\n",
       "       3.08284308e+00, 3.06612767e+00, 3.04949848e+00, 3.03295503e+00,\n",
       "       3.01649686e+00, 3.00012352e+00, 2.98383452e+00, 2.96762943e+00,\n",
       "       2.95150778e+00, 2.93546911e+00, 2.91951298e+00, 2.90363894e+00,\n",
       "       2.88784653e+00, 2.87213532e+00, 2.85650486e+00, 2.84095472e+00,\n",
       "       2.82548445e+00, 2.81009361e+00, 2.79478178e+00, 2.77954853e+00,\n",
       "       2.76439341e+00, 2.74931602e+00, 2.73431591e+00, 2.71939268e+00,\n",
       "       2.70454590e+00, 2.68977514e+00, 2.67508000e+00, 2.66046006e+00,\n",
       "       2.64591491e+00, 2.63144414e+00, 2.61704734e+00, 2.60272411e+00,\n",
       "       2.58847403e+00, 2.57429672e+00, 2.56019177e+00, 2.54615878e+00,\n",
       "       2.53219735e+00, 2.51830710e+00, 2.50448763e+00, 2.49073856e+00,\n",
       "       2.47705949e+00, 2.46345004e+00, 2.44990982e+00, 2.43643846e+00,\n",
       "       2.42303557e+00, 2.40970077e+00, 2.39643370e+00, 2.38323397e+00,\n",
       "       2.37010121e+00, 2.35703506e+00, 2.34403514e+00, 2.33110109e+00,\n",
       "       2.31823254e+00, 2.30542913e+00, 2.29269050e+00, 2.28001628e+00,\n",
       "       2.26740613e+00, 2.25485968e+00, 2.24237659e+00, 2.22995649e+00,\n",
       "       2.21759904e+00, 2.20530389e+00, 2.19307069e+00, 2.18089909e+00,\n",
       "       2.16878876e+00, 2.15673935e+00, 2.14475053e+00, 2.13282194e+00,\n",
       "       2.12095326e+00, 2.10914414e+00, 2.09739426e+00, 2.08570329e+00,\n",
       "       2.07407089e+00, 2.06249673e+00, 2.05098049e+00, 2.03952185e+00,\n",
       "       2.02812047e+00, 2.01677603e+00, 2.00548822e+00, 1.99425671e+00,\n",
       "       1.98308119e+00, 1.97196133e+00, 1.96089683e+00, 1.94988738e+00,\n",
       "       1.93893265e+00, 1.92803233e+00, 1.91718613e+00, 1.90639372e+00,\n",
       "       1.89565481e+00, 1.88496909e+00, 1.87433624e+00, 1.86375598e+00,\n",
       "       1.85322799e+00, 1.84275198e+00, 1.83232764e+00, 1.82195468e+00,\n",
       "       1.81163279e+00, 1.80136168e+00, 1.79114106e+00, 1.78097062e+00,\n",
       "       1.77085006e+00, 1.76077910e+00, 1.75075744e+00, 1.74078478e+00,\n",
       "       1.73086082e+00, 1.72098528e+00, 1.71115784e+00, 1.70137822e+00,\n",
       "       1.69164612e+00, 1.68196124e+00, 1.67232328e+00, 1.66273193e+00,\n",
       "       1.65318690e+00, 1.64368787e+00, 1.63423455e+00, 1.62482661e+00,\n",
       "       1.61546374e+00, 1.60614564e+00, 1.59687197e+00, 1.58764241e+00,\n",
       "       1.57845664e+00, 1.56931431e+00, 1.56021510e+00, 1.55115864e+00,\n",
       "       1.54214460e+00, 1.53317262e+00, 1.52424232e+00, 1.51535333e+00,\n",
       "       1.50650528e+00, 1.49769778e+00, 1.48893042e+00, 1.48020279e+00,\n",
       "       1.47151448e+00, 1.46286507e+00, 1.45425409e+00, 1.44568112e+00,\n",
       "       1.43714567e+00, 1.42864728e+00, 1.42018545e+00, 1.41175967e+00,\n",
       "       1.40336944e+00, 1.39501422e+00, 1.38669346e+00, 1.37840659e+00,\n",
       "       1.37015305e+00, 1.36193224e+00, 1.35374355e+00, 1.34558635e+00,\n",
       "       1.33746000e+00, 1.32936384e+00, 1.32129720e+00, 1.31325940e+00,\n",
       "       1.30524971e+00, 1.29726742e+00, 1.28931179e+00, 1.28138206e+00,\n",
       "       1.27347746e+00, 1.26559721e+00, 1.25774051e+00, 1.24990653e+00,\n",
       "       1.24209446e+00, 1.23430345e+00, 1.22653265e+00, 1.21878119e+00,\n",
       "       1.21104820e+00, 1.20333279e+00, 1.19563407e+00, 1.18795114e+00,\n",
       "       1.18028308e+00, 1.17262900e+00, 1.16498796e+00, 1.15735905e+00,\n",
       "       1.14974134e+00, 1.14213392e+00, 1.13453586e+00, 1.12694625e+00,\n",
       "       1.11936416e+00, 1.11178870e+00, 1.10421895e+00, 1.09665403e+00,\n",
       "       1.08909305e+00, 1.08153515e+00, 1.07397946e+00, 1.06642514e+00,\n",
       "       1.05887137e+00, 1.05131734e+00, 1.04376226e+00, 1.03620536e+00,\n",
       "       1.02864590e+00, 1.02108316e+00, 1.01351645e+00, 1.00594510e+00,\n",
       "       9.98368466e-01, 9.90785946e-01, 9.83196962e-01, 9.75600969e-01,\n",
       "       9.67997455e-01, 9.60385944e-01, 9.52765995e-01, 9.45137204e-01,\n",
       "       9.37499206e-01, 9.29851673e-01, 9.22194316e-01, 9.14526887e-01,\n",
       "       9.06849178e-01, 8.99161024e-01, 8.91462300e-01, 8.83752924e-01,\n",
       "       8.76032856e-01, 8.68302099e-01, 8.60560699e-01, 8.52808745e-01,\n",
       "       8.45046369e-01, 8.37273746e-01, 8.29491094e-01, 8.21698674e-01,\n",
       "       8.13896790e-01, 8.06085785e-01, 7.98266047e-01, 7.90438005e-01,\n",
       "       7.82602126e-01, 7.74758920e-01, 7.66908935e-01, 7.59052757e-01,\n",
       "       7.51191012e-01, 7.43324360e-01, 7.35453501e-01, 7.27579166e-01,\n",
       "       7.19702124e-01, 7.11823175e-01, 7.03943152e-01, 6.96062919e-01,\n",
       "       6.88183370e-01, 6.80305427e-01, 6.72430042e-01, 6.64558190e-01,\n",
       "       6.56690874e-01, 6.48829120e-01, 6.40973977e-01, 6.33126514e-01,\n",
       "       6.25287823e-01, 6.17459011e-01, 6.09641206e-01, 6.01835551e-01,\n",
       "       5.94043204e-01, 5.86265335e-01, 5.78503128e-01, 5.70757779e-01,\n",
       "       5.63030492e-01, 5.55322479e-01, 5.47634962e-01, 5.39969165e-01,\n",
       "       5.32326319e-01, 5.24707659e-01, 5.17114422e-01, 5.09547844e-01,\n",
       "       5.02009163e-01, 4.94499615e-01, 4.87020435e-01, 4.79572852e-01,\n",
       "       4.72158092e-01, 4.64777376e-01, 4.57431917e-01, 4.50122921e-01,\n",
       "       4.42851586e-01, 4.35619100e-01, 4.28426641e-01, 4.21275374e-01,\n",
       "       4.14166453e-01, 4.07101021e-01, 4.00080204e-01, 3.93105116e-01,\n",
       "       3.86176853e-01, 3.79296498e-01, 3.72465115e-01, 3.65683751e-01,\n",
       "       3.58953437e-01, 3.52275184e-01, 3.45649983e-01, 3.39078806e-01,\n",
       "       3.32562605e-01, 3.26102312e-01, 3.19698836e-01, 3.13353065e-01,\n",
       "       3.07065866e-01, 3.00838082e-01, 2.94670533e-01, 2.88564018e-01,\n",
       "       2.82519309e-01, 2.76537156e-01, 2.70618285e-01, 2.64763396e-01,\n",
       "       2.58973164e-01, 2.53248240e-01, 2.47589249e-01, 2.41996790e-01,\n",
       "       2.36471436e-01, 2.31013734e-01, 2.25624204e-01, 2.20303340e-01,\n",
       "       2.15051608e-01, 2.09869449e-01, 2.04757276e-01, 1.99715471e-01,\n",
       "       1.94744395e-01, 1.89844375e-01, 1.85015713e-01, 1.80258683e-01,\n",
       "       1.75573530e-01, 1.70960470e-01, 1.66419693e-01, 1.61951357e-01,\n",
       "       1.57555594e-01, 1.53232505e-01, 1.48982164e-01, 1.44804613e-01,\n",
       "       1.40699869e-01, 1.36667917e-01, 1.32708712e-01, 1.28822182e-01,\n",
       "       1.25008226e-01, 1.21266710e-01, 1.17597475e-01, 1.14000331e-01,\n",
       "       1.10475057e-01, 1.07021407e-01, 1.03639101e-01, 1.00327834e-01,\n",
       "       9.70872713e-02, 9.39170485e-02, 9.08167736e-02, 8.77860265e-02,\n",
       "       8.48243590e-02, 8.19312952e-02, 7.91063323e-02, 7.63489402e-02,\n",
       "       7.36585624e-02, 7.10346164e-02, 6.84764937e-02, 6.59835611e-02,\n",
       "       6.35551604e-02, 6.11906095e-02, 5.88892028e-02, 5.66502119e-02,\n",
       "       5.44728861e-02, 5.23564534e-02, 5.03001211e-02, 4.83030763e-02,\n",
       "       4.63644873e-02, 4.44835037e-02, 4.26592580e-02, 4.08908658e-02,\n",
       "       3.91774274e-02, 3.75180281e-02, 3.59117395e-02, 3.43576205e-02,\n",
       "       3.28547182e-02, 3.14020689e-02, 2.99986992e-02, 2.86436270e-02,\n",
       "       2.73358627e-02, 2.60744098e-02, 2.48582667e-02, 2.36864269e-02,\n",
       "       2.25578808e-02, 2.14716165e-02, 2.04266206e-02, 1.94218797e-02,\n",
       "       1.84563809e-02, 1.75291135e-02, 1.66390693e-02, 1.57852440e-02,\n",
       "       1.49666383e-02, 1.41822585e-02, 1.34311173e-02, 1.27122354e-02,\n",
       "       1.20246416e-02, 1.13673742e-02, 1.07394815e-02, 1.01400225e-02,\n",
       "       9.56806807e-03, 9.02270127e-03, 8.50301818e-03, 8.00812854e-03,\n",
       "       7.53715631e-03, 7.08924028e-03, 6.66353457e-03, 6.25920913e-03,\n",
       "       5.87545018e-03, 5.51146063e-03, 5.16646046e-03, 4.83968703e-03,\n",
       "       4.53039538e-03, 4.23785849e-03, 3.96136752e-03, 3.70023192e-03,\n",
       "       3.45377965e-03, 3.22135724e-03, 3.00232988e-03, 2.79608145e-03,\n",
       "       2.60201450e-03, 2.41955027e-03, 2.24812857e-03, 2.08720774e-03,\n",
       "       1.93626448e-03, 1.79479376e-03, 1.66230857e-03, 1.53833979e-03,\n",
       "       1.42243590e-03, 1.31416281e-03, 1.21310350e-03, 1.11885781e-03,\n",
       "       1.03104210e-03, 9.49288909e-04, 8.73246666e-04, 8.02579290e-04])"
      ]
     },
     "execution_count": 145,
     "metadata": {},
     "output_type": "execute_result"
    }
   ],
   "source": [
    "s"
   ]
  },
  {
   "cell_type": "code",
   "execution_count": 143,
   "id": "f0e75f85",
   "metadata": {},
   "outputs": [
    {
     "data": {
      "text/plain": [
       "69.09710241150864"
      ]
     },
     "execution_count": 143,
     "metadata": {},
     "output_type": "execute_result"
    }
   ],
   "source": [
    "s.max()"
   ]
  },
  {
   "cell_type": "code",
   "execution_count": 38,
   "id": "bd49a64b",
   "metadata": {},
   "outputs": [],
   "source": [
    "omegas = np.linspace(0, np.pi, X_N + 1)[1:] # angles\n",
    "\n",
    "def _compose(r1, r2):  # R1 @ R2 but for Euler vecs\n",
    "    return Rotation.from_matrix(Rotation.from_rotvec(r1).as_matrix() @ Rotation.from_rotvec(r2).as_matrix()).as_rotvec()\n",
    "\n",
    "def _expansion(omega, eps, L=200):  # f(w), the summation term only\n",
    "    p = 0\n",
    "    for l in range(L):\n",
    "        p += (2 * l + 1) * np.exp(-l * (l + 1) * eps**2) * np.sin(omega * (l + 1 / 2)) / np.sin(omega / 2)\n",
    "    return p"
   ]
  },
  {
   "cell_type": "code",
   "execution_count": 39,
   "id": "58913d44",
   "metadata": {},
   "outputs": [],
   "source": [
    "_eps_array = 10 ** np.linspace(np.log10(MIN_EPS), np.log10(MAX_EPS), N_EPS)\n",
    "_omegas_array = np.linspace(0, np.pi, X_N + 1)[1:]\n",
    "ee = np.asarray([_expansion(_omegas_array, eps) for eps in _eps_array]) # f(eps, w)"
   ]
  },
  {
   "cell_type": "code",
   "execution_count": 84,
   "id": "9c9d1ecf",
   "metadata": {},
   "outputs": [
    {
     "data": {
      "text/plain": [
       "array([0.01      , 0.01054976, 0.01112975, 0.01174162, 0.01238714,\n",
       "       0.01306814, 0.01378657, 0.01454451, 0.01534411, 0.01618768,\n",
       "       0.01707762, 0.01801648, 0.01900696, 0.0200519 , 0.02115428,\n",
       "       0.02231726, 0.02354418, 0.02483856, 0.02620409, 0.0276447 ,\n",
       "       0.0291645 , 0.03076786, 0.03245936, 0.03424386, 0.03612646,\n",
       "       0.03811257, 0.04020786, 0.04241834, 0.04475034, 0.04721055,\n",
       "       0.04980602, 0.05254417, 0.05543286, 0.05848035, 0.06169539,\n",
       "       0.06508718, 0.06866544, 0.07244041, 0.07642292, 0.08062438,\n",
       "       0.08505681, 0.08973292, 0.09466611, 0.09987051, 0.10536103,\n",
       "       0.11115339, 0.1172642 , 0.12371096, 0.13051214, 0.13768722,\n",
       "       0.14525676, 0.15324245, 0.16166716, 0.17055503, 0.17993153,\n",
       "       0.18982351, 0.20025931, 0.21126884, 0.22288363, 0.23513696,\n",
       "       0.24806394, 0.26170159, 0.27608899, 0.29126736, 0.30728018,\n",
       "       0.32417332, 0.34199519, 0.36079684, 0.38063214, 0.4015579 ,\n",
       "       0.4236341 , 0.44692395, 0.47149421, 0.49741524, 0.52476132,\n",
       "       0.55361079, 0.58404629, 0.61615503, 0.65002899, 0.68576521,\n",
       "       0.72346609, 0.76323962, 0.80519975, 0.8494667 , 0.89616729,\n",
       "       0.9454353 , 0.99741189, 1.05224596, 1.11009462, 1.17112357,\n",
       "       1.23550768, 1.3034314 , 1.37508931, 1.45068671, 1.53044018,\n",
       "       1.61457821, 1.70334184, 1.79698537, 1.89577708, 2.        ])"
      ]
     },
     "execution_count": 84,
     "metadata": {},
     "output_type": "execute_result"
    }
   ],
   "source": [
    "_eps_array"
   ]
  },
  {
   "cell_type": "code",
   "execution_count": 40,
   "id": "6050742d",
   "metadata": {},
   "outputs": [
    {
     "data": {
      "text/plain": [
       "(100, 1000)"
      ]
     },
     "execution_count": 40,
     "metadata": {},
     "output_type": "execute_result"
    }
   ],
   "source": [
    "ee.shape"
   ]
  },
  {
   "cell_type": "code",
   "execution_count": 41,
   "id": "00cabaa7",
   "metadata": {},
   "outputs": [],
   "source": [
    "def _density(expansion, omega, marginal=True):  # if marginal, density over [0, pi], else over SO(3)\n",
    "    if marginal:\n",
    "        return expansion * (1 - np.cos(omega)) / np.pi\n",
    "    else:\n",
    "        return expansion / 8 / np.pi ** 2  # the constant factor do"
   ]
  },
  {
   "cell_type": "code",
   "execution_count": 43,
   "id": "6d6b9cad",
   "metadata": {},
   "outputs": [],
   "source": [
    "pp = np.asarray([_density(_exp, _omegas_array, marginal=True) for _exp in ee]) # p(w)"
   ]
  },
  {
   "cell_type": "code",
   "execution_count": 44,
   "id": "5466cd82",
   "metadata": {},
   "outputs": [
    {
     "data": {
      "text/plain": [
       "(100, 1000)"
      ]
     },
     "execution_count": 44,
     "metadata": {},
     "output_type": "execute_result"
    }
   ],
   "source": [
    "pp.shape"
   ]
  },
  {
   "cell_type": "code",
   "execution_count": 83,
   "id": "8ad13f04",
   "metadata": {},
   "outputs": [
    {
     "data": {
      "text/plain": [
       "(1000,)"
      ]
     },
     "execution_count": 83,
     "metadata": {},
     "output_type": "execute_result"
    }
   ],
   "source": [
    "pp[0].shape"
   ]
  },
  {
   "cell_type": "code",
   "execution_count": 46,
   "id": "2343971a",
   "metadata": {},
   "outputs": [],
   "source": [
    "cc = np.asarray([_pdf.cumsum() / X_N * np.pi for _pdf in pp]) # 在w方向上求累积和"
   ]
  },
  {
   "cell_type": "code",
   "execution_count": 51,
   "id": "731ac446",
   "metadata": {},
   "outputs": [
    {
     "data": {
      "text/plain": [
       "1.0000655765217363"
      ]
     },
     "execution_count": 51,
     "metadata": {},
     "output_type": "execute_result"
    }
   ],
   "source": [
    "cc[78].max()"
   ]
  },
  {
   "cell_type": "code",
   "execution_count": 55,
   "id": "7f4c7146",
   "metadata": {},
   "outputs": [],
   "source": [
    "def _score(exp, omega, eps, L=200):  # score of density over SO(3)\n",
    "    dSigma = 0\n",
    "    for l in range(L):\n",
    "        hi = np.sin(omega * (l + 1 / 2))\n",
    "        dhi = (l + 1 / 2) * np.cos(omega * (l + 1 / 2))\n",
    "        lo = np.sin(omega / 2)\n",
    "        dlo = 1 / 2 * np.cos(omega / 2)\n",
    "        dSigma += (2 * l + 1) * np.exp(-l * (l + 1) * eps**2) * (lo * dhi - hi * dlo) / lo ** 2 # derivative of f(w)\n",
    "    return dSigma / exp\n"
   ]
  },
  {
   "cell_type": "code",
   "execution_count": 78,
   "id": "c100ef79",
   "metadata": {},
   "outputs": [
    {
     "data": {
      "text/plain": [
       "(100, 1000)"
      ]
     },
     "execution_count": 78,
     "metadata": {},
     "output_type": "execute_result"
    }
   ],
   "source": [
    "ss = np.asarray([_score(ee[i], _omegas_array, _eps_array[i]) for i in range(len(_eps_array))])\n",
    "ss.shape"
   ]
  },
  {
   "cell_type": "code",
   "execution_count": 60,
   "id": "e7c59219",
   "metadata": {},
   "outputs": [
    {
     "name": "stderr",
     "output_type": "stream",
     "text": [
      "C:\\Users\\admin\\anaconda3\\envs\\chem\\lib\\site-packages\\ipykernel_launcher.py:1: RuntimeWarning: invalid value encountered in sqrt\n",
      "  \"\"\"Entry point for launching an IPython kernel.\n"
     ]
    }
   ],
   "source": [
    "_exp_score_norms = np.sqrt(np.sum(ss**2 * pp, axis=1) / np.sum(pp, axis=1) / np.pi)"
   ]
  },
  {
   "cell_type": "code",
   "execution_count": 70,
   "id": "13ef679a",
   "metadata": {},
   "outputs": [
    {
     "name": "stderr",
     "output_type": "stream",
     "text": [
      "C:\\Users\\admin\\anaconda3\\envs\\chem\\lib\\site-packages\\ipykernel_launcher.py:2: RuntimeWarning: invalid value encountered in sqrt\n",
      "  \n"
     ]
    },
    {
     "data": {
      "text/plain": [
       "(100,)"
      ]
     },
     "execution_count": 70,
     "metadata": {},
     "output_type": "execute_result"
    }
   ],
   "source": [
    "x = np.sum(ss**2 * pp, axis=1) / np.sum(pp, axis=1) / np.pi\n",
    "n = np.sqrt(x)\n",
    "n.shape"
   ]
  },
  {
   "cell_type": "code",
   "execution_count": 71,
   "id": "225f5472",
   "metadata": {
    "scrolled": true
   },
   "outputs": [
    {
     "data": {
      "text/plain": [
       "array([           nan, 9.11259333e+01, 1.56831993e+01, 7.49583929e+01,\n",
       "       4.22133260e+01, 1.16811077e+02, 5.40130737e+01, 5.19906134e+01,\n",
       "       3.77468696e+01,            nan, 4.06251468e+01, 3.83992853e+01,\n",
       "       3.63431569e+01, 3.44587502e+01, 3.26597537e+01, 3.09581367e+01,\n",
       "       2.93445021e+01, 2.78148884e+01, 2.63649554e+01, 2.49905543e+01,\n",
       "       2.36877485e+01, 2.24528058e+01, 2.12821881e+01, 2.01725416e+01,\n",
       "       1.91206874e+01, 1.81236121e+01, 1.71784590e+01, 1.62825204e+01,\n",
       "       1.54332296e+01, 1.46281534e+01, 1.38649853e+01, 1.31415390e+01,\n",
       "       1.24557418e+01, 1.18056290e+01, 1.11893381e+01, 1.06051034e+01,\n",
       "       1.00512511e+01, 9.52619465e+00, 9.02842962e+00, 8.55653001e+00,\n",
       "       8.10914384e+00, 7.68498937e+00, 7.28285141e+00, 6.90157785e+00,\n",
       "       6.54007632e+00, 6.19731113e+00, 5.87230023e+00, 5.56411242e+00,\n",
       "       5.27186470e+00, 4.99471973e+00, 4.73188339e+00, 4.48260257e+00,\n",
       "       4.24616294e+00, 4.02188697e+00, 3.80913191e+00, 3.60728801e+00,\n",
       "       3.41577671e+00, 3.23404902e+00, 3.06158391e+00, 2.89788682e+00,\n",
       "       2.74248823e+00, 2.59494230e+00, 2.45482555e+00, 2.32173567e+00,\n",
       "       2.19529031e+00, 2.07512597e+00, 1.96089683e+00, 1.85227348e+00,\n",
       "       1.74894059e+00, 1.65059170e+00, 1.55691688e+00, 1.46757803e+00,\n",
       "       1.38216889e+00, 1.30016622e+00, 1.22089174e+00, 1.14351313e+00,\n",
       "       1.06710600e+00, 9.90776192e-01, 9.13814360e-01, 8.35838094e-01,\n",
       "       7.56880732e-01, 6.77405805e-01, 5.98250133e-01, 5.20516330e-01,\n",
       "       4.45442513e-01, 3.74274546e-01, 3.08158198e-01, 2.48058881e-01,\n",
       "       1.94708004e-01, 1.48569374e-01, 1.09818234e-01, 7.83300265e-02,\n",
       "       5.36837728e-02, 3.51905109e-02, 2.19548628e-02, 1.29667892e-02,\n",
       "       7.20737680e-03, 3.74566809e-03, 1.80682584e-03, 8.02379022e-04])"
      ]
     },
     "execution_count": 71,
     "metadata": {},
     "output_type": "execute_result"
    }
   ],
   "source": [
    "n"
   ]
  },
  {
   "cell_type": "code",
   "execution_count": 136,
   "id": "a35dc971",
   "metadata": {},
   "outputs": [],
   "source": [
    "# 结果是个2维数组，横坐标代表eps的取值，纵坐标代表w的取值\n",
    "MIN_EPS, MAX_EPS, N_EPS = 0.01, 2, 200\n",
    "X_N = 80\n",
    "omegas = np.linspace(0, np.pi, X_N + 1)[1:] # angles\n",
    "\n",
    "\n",
    "def _compose(r1, r2):  # R1 @ R2 but for Euler vecs\n",
    "    return Rotation.from_matrix(Rotation.from_rotvec(r1).as_matrix() @ Rotation.from_rotvec(r2).as_matrix()).as_rotvec()\n",
    "\n",
    "\n",
    "def _expansion(omega, eps, L=500):  # f(w), the summation term only\n",
    "    p = 0\n",
    "    for l in range(L):\n",
    "        p += (2 * l + 1) * np.exp(-l * (l + 1) * eps**2) * np.sin(omega * (l + 1 / 2)) / np.sin(omega / 2)\n",
    "    return p\n",
    "\n",
    "\n",
    "def _density(expansion, omega, marginal=True):  # if marginal, density over [0, pi], else over SO(3)\n",
    "    if marginal:\n",
    "        return expansion * (1 - np.cos(omega)) / np.pi\n",
    "    else:\n",
    "        return expansion / 8 / np.pi ** 2  # the constant factor doesn't affect any actual calculations though\n",
    "\n",
    "\n",
    "def _score(exp, omega, eps, L=500):  # score of density over SO(3)\n",
    "    dSigma = 0\n",
    "    for l in range(L):\n",
    "        hi = np.sin(omega * (l + 1 / 2))\n",
    "        dhi = (l + 1 / 2) * np.cos(omega * (l + 1 / 2))\n",
    "        lo = np.sin(omega / 2)\n",
    "        dlo = 1 / 2 * np.cos(omega / 2)\n",
    "        dSigma += (2 * l + 1) * np.exp(-l * (l + 1) * eps**2) * (lo * dhi - hi * dlo) / lo ** 2 # derivative of f(w)\n",
    "    return dSigma / exp # f(w)导数除以f(w)，也就是d(ln(f(w)))/dw\n"
   ]
  },
  {
   "cell_type": "code",
   "execution_count": 137,
   "id": "c2882df7",
   "metadata": {},
   "outputs": [],
   "source": [
    "_eps_array = 10 ** np.linspace(np.log10(MIN_EPS), np.log10(MAX_EPS), N_EPS)\n",
    "_omegas_array = np.linspace(0, np.pi, X_N + 1)[1:]\n",
    "\n",
    "_exp_vals = np.asarray([_expansion(_omegas_array, eps) for eps in _eps_array]) # f(eps, w), n_eps*n_w\n",
    "_pdf_vals = np.asarray([_density(_exp, _omegas_array, marginal=True) for _exp in _exp_vals]) # p(w), n_eps*n_w\n",
    "_cdf_vals = np.asarray([_pdf.cumsum() / X_N * np.pi for _pdf in _pdf_vals]) # 在w方向上求累积和，n_eps*n_w\n",
    "_score_norms = np.asarray([_score(_exp_vals[i], _omegas_array, _eps_array[i]) for i in range(len(_eps_array))])\n",
    "\n",
    "_exp_score_norms = np.sqrt(np.sum(_score_norms**2 * _pdf_vals, axis=1) / np.sum(_pdf_vals, axis=1) / np.pi)"
   ]
  },
  {
   "cell_type": "code",
   "execution_count": 132,
   "id": "ee188ec0",
   "metadata": {},
   "outputs": [
    {
     "data": {
      "text/plain": [
       "87"
      ]
     },
     "execution_count": 132,
     "metadata": {},
     "output_type": "execute_result"
    }
   ],
   "source": [
    "eps = 0.1\n",
    "eps_idx = (np.log10(eps) - np.log10(MIN_EPS)) / (np.log10(MAX_EPS) - np.log10(MIN_EPS)) * N_EPS\n",
    "eps_idx = np.clip(np.around(eps_idx).astype(int), a_min=0, a_max=N_EPS-1)\n",
    "eps_idx"
   ]
  },
  {
   "cell_type": "code",
   "execution_count": 139,
   "id": "a677e554",
   "metadata": {},
   "outputs": [
    {
     "data": {
      "text/plain": [
       "(200,)"
      ]
     },
     "execution_count": 139,
     "metadata": {},
     "output_type": "execute_result"
    }
   ],
   "source": [
    "xx = _pdf_vals*np.pi/80\n",
    "xx.sum(axis=1).shape"
   ]
  },
  {
   "cell_type": "code",
   "execution_count": 1,
   "id": "e2ec7e60",
   "metadata": {},
   "outputs": [
    {
     "name": "stdout",
     "output_type": "stream",
     "text": [
      "E:\\projects\\DiffDock\\datasets\n"
     ]
    }
   ],
   "source": [
    "cd datasets"
   ]
  },
  {
   "cell_type": "code",
   "execution_count": 57,
   "id": "325dd842",
   "metadata": {},
   "outputs": [
    {
     "name": "stdout",
     "output_type": "stream",
     "text": [
      "chain_id: 0\n",
      "['112THR', '113ALA', '114VAL', '115ASP', '134CYS', '261LEU', '291VAL', '294VAL', '40LEU', '41GLY', '42GLY', '43THR', '61LEU', '65MET', '68SER', '69ASN', '79GLY', '80LYS']\n",
      "chain_id: 0\n",
      "['110TYR', '113ALA', '114VAL', '115ASP', '116VAL', '146VAL', '261LEU', '287ASN', '288ALA', '290GLY', '291VAL', '294VAL', '40LEU', '41GLY', '42GLY', '43THR', '44ARG', '61LEU', '65MET', '68SER', '69ASN', '79GLY', '80LYS']\n",
      "chain_id: 0\n",
      "['115ASP', '116VAL', '261LEU', '262ASN', '283ASP', '284TYR', '287ASN', '291VAL', '41GLY', '42GLY', '44ARG', '57ASP', '60ARG', '61LEU', '62ALA', '64GLY', '65MET', '68SER', '79GLY', '80LYS']\n",
      "chain_id: 0\n",
      "['113ALA', '114VAL', '115ASP', '116VAL', '146VAL', '150THR', '184VAL', '259SER', '261LEU', '287ASN', '288ALA', '290GLY', '291VAL', '41GLY', '42GLY', '43THR', '44ARG', '61LEU', '65MET', '80LYS']\n"
     ]
    },
    {
     "data": {
      "text/plain": [
       "{'110TYR',\n",
       " '112THR',\n",
       " '113ALA',\n",
       " '114VAL',\n",
       " '115ASP',\n",
       " '116VAL',\n",
       " '134CYS',\n",
       " '146VAL',\n",
       " '150THR',\n",
       " '184VAL',\n",
       " '259SER',\n",
       " '261LEU',\n",
       " '262ASN',\n",
       " '283ASP',\n",
       " '284TYR',\n",
       " '287ASN',\n",
       " '288ALA',\n",
       " '290GLY',\n",
       " '291VAL',\n",
       " '294VAL',\n",
       " '40LEU',\n",
       " '41GLY',\n",
       " '42GLY',\n",
       " '43THR',\n",
       " '44ARG',\n",
       " '57ASP',\n",
       " '60ARG',\n",
       " '61LEU',\n",
       " '62ALA',\n",
       " '64GLY',\n",
       " '65MET',\n",
       " '68SER',\n",
       " '69ASN',\n",
       " '79GLY',\n",
       " '80LYS'}"
      ]
     },
     "execution_count": 57,
     "metadata": {},
     "output_type": "execute_result"
    }
   ],
   "source": [
    "import copy\n",
    "import os\n",
    "import warnings\n",
    "\n",
    "import numpy as np\n",
    "from Bio.PDB import PDBParser\n",
    "from Bio.PDB.PDBExceptions import PDBConstructionWarning\n",
    "from rdkit import Chem\n",
    "from scipy import spatial\n",
    "from get_AAs_around_ligand import *\n",
    "# from Bio.PDB.Selection import unfold_entities\n",
    "import rdkit\n",
    "from rdkit import Chem\n",
    "\n",
    "radius = 6.5\n",
    "all_residues = []\n",
    "\n",
    "pdb_file = r\"E:\\work\\shangke\\protein\\amdh1988__OCCC(C)=O\\amdh1988.pdb\"\n",
    "lig_file = r\"E:\\work\\shangke\\protein\\amdh1988__OCCC(C)=O\\rank1.sdf\"\n",
    "\n",
    "parser = PDBParser(PERMISSIVE=1)\n",
    "rec = parser.get_structure('temp', pdb_file)[0] # model level\n",
    "mol = read_molecule(lig_file)\n",
    "mol = Chem.AddHs(mol)\n",
    "# conf = mol.GetConformer()\n",
    "# lig_coords = conf.GetPositions() # \n",
    "# print(lig_coords.shape)\n",
    "# ccc\n",
    "residues, residues_simple = get_AAs_around_ligand(rec, mol, radius=radius)\n",
    "residues_simple.sort()\n",
    "all_residues.extend(residues_simple)\n",
    "print(residues_simple)\n",
    "\n",
    "\n",
    "for i in range(1,6):\n",
    "    if i==3 or i==5:\n",
    "        continue\n",
    "    pdb_file = f\"E:/work/shangke/protein/AF2_struct/amdh_1988_429_{str(i)}__CC(=O)CCO/amdh_1988_429.pdb\"\n",
    "    lig_file = f\"E:/work/shangke/protein/AF2_struct/amdh_1988_429_{str(i)}__CC(=O)CCO/rank1.sdf\"\n",
    "\n",
    "    parser = PDBParser(PERMISSIVE=1)\n",
    "    rec = parser.get_structure('temp', pdb_file)[0] # model level\n",
    "    mol = read_molecule(lig_file)\n",
    "    residues, residues_simple = get_AAs_around_ligand(rec, mol, radius=radius)\n",
    "    residues_simple.sort()\n",
    "    all_residues.extend(residues_simple)\n",
    "    print(residues_simple)\n",
    "\n",
    "set(all_residues)"
   ]
  },
  {
   "cell_type": "code",
   "execution_count": 14,
   "id": "8732a4d4",
   "metadata": {},
   "outputs": [],
   "source": [
    "aas = ['113ALA', '114VAL', '115ASP', '291VAL', '294VAL', '40LEU', '41GLY', '42GLY', '65MET', '79GLY', \n",
    " '80LYS','113ALA', '114VAL', '115ASP', '261LEU', '291VAL', '294VAL', '40LEU', '41GLY', '42GLY', \n",
    " '61LEU', '65MET', '80LYS','115ASP', '261LEU', '284TYR', '287ASN', '44ARG', '61LEU', '64GLY', \n",
    " '65MET', '68SER', '80LYS', '114VAL', '115ASP', '116VAL', '150THR', '261LEU', '287ASN', '290GLY', \n",
    " '291VAL', '42GLY', '44ARG', '61LEU', '65MET', '80LYS' ]"
   ]
  },
  {
   "cell_type": "code",
   "execution_count": 15,
   "id": "5b4fa7c3",
   "metadata": {},
   "outputs": [
    {
     "data": {
      "text/plain": [
       "['80LYS',\n",
       " '64GLY',\n",
       " '79GLY',\n",
       " '40LEU',\n",
       " '42GLY',\n",
       " '294VAL',\n",
       " '68SER',\n",
       " '65MET',\n",
       " '115ASP',\n",
       " '290GLY',\n",
       " '61LEU',\n",
       " '284TYR',\n",
       " '261LEU',\n",
       " '116VAL',\n",
       " '44ARG',\n",
       " '287ASN',\n",
       " '150THR',\n",
       " '114VAL',\n",
       " '113ALA',\n",
       " '41GLY',\n",
       " '291VAL']"
      ]
     },
     "execution_count": 15,
     "metadata": {},
     "output_type": "execute_result"
    }
   ],
   "source": [
    "list(set(aas))"
   ]
  },
  {
   "cell_type": "code",
   "execution_count": 9,
   "id": "77255000",
   "metadata": {},
   "outputs": [
    {
     "name": "stdout",
     "output_type": "stream",
     "text": [
      "torch.Size([100, 512])\n"
     ]
    },
    {
     "data": {
      "text/plain": [
       "[<matplotlib.lines.Line2D at 0x14af7a082e8>]"
      ]
     },
     "execution_count": 9,
     "metadata": {},
     "output_type": "execute_result"
    },
    {
     "data": {
      "image/png": "[encoded data removed]",
      "text/plain": [
       "<Figure size 640x480 with 1 Axes>"
      ]
     },
     "metadata": {},
     "output_type": "display_data"
    }
   ],
   "source": [
    "import numpy as np\n",
    "import math\n",
    "import matplotlib.pyplot as plt\n",
    "import torch\n",
    "\n",
    "def sinusoidal_embedding(timesteps, embedding_dim, max_positions=10000):\n",
    "    \"\"\" from https://github.com/hojonathanho/diffusion/blob/master/diffusion_tf/nn.py   \"\"\"\n",
    "    assert len(timesteps.shape) == 1\n",
    "    half_dim = embedding_dim // 2\n",
    "    emb = 5 / (half_dim - 1)\n",
    "    emb = torch.exp(torch.arange(half_dim, dtype=torch.float32, device=timesteps.device) * -emb)\n",
    "    emb = timesteps.float()[:, None] * emb[None, :]\n",
    "    emb = torch.cat([torch.sin(emb), torch.cos(emb)], dim=1)\n",
    "    if embedding_dim % 2 == 1:  # zero pad\n",
    "        emb = F.pad(emb, (0, 1), mode='constant')\n",
    "    assert emb.shape == (timesteps.shape[0], embedding_dim)\n",
    "    return emb\n",
    "emb = sinusoidal_embedding(torch.tensor(np.arange(0,100,1)), 512, max_positions=100)\n",
    "print(emb.shape)\n",
    "plt.plot(emb[1,:])\n",
    "# plt.plot(emb[20,:])\n",
    "# plt.plot(emb[30,:])\n",
    "# plt.plot(emb[40,:])"
   ]
  },
  {
   "cell_type": "code",
   "execution_count": 2,
   "id": "ea017286",
   "metadata": {},
   "outputs": [],
   "source": [
    "import numpy as np\n",
    "x = np.array([1,2,3])\n",
    "y = np.array([4,5])\n",
    "z = np.outer(x, y)"
   ]
  },
  {
   "cell_type": "code",
   "execution_count": 2,
   "id": "30d953d2",
   "metadata": {},
   "outputs": [
    {
     "name": "stdout",
     "output_type": "stream",
     "text": [
      "110\n"
     ]
    }
   ],
   "source": [
    "from functools import partial\n",
    "def add(*args):\n",
    "    return sum(args)\n",
    "\n",
    "add_100 = partial(add, 100)\n",
    "print(add_100(1,2,3,4))"
   ]
  },
  {
   "cell_type": "code",
   "execution_count": 13,
   "id": "a5a04780",
   "metadata": {},
   "outputs": [],
   "source": [
    "import rdkit\n",
    "from rdkit import Chem\n",
    "def write_mol_with_coords(mol, new_coords, path):\n",
    "    '''\n",
    "    # 这里的mol实际上是Rdkit Embed或ETKDG方法获得的3D结构（with H），而非Chem.MolFromSmiles()获得的mol对象\n",
    "    # 举例获取输入的mol的方法\n",
    "    mol = Chem.MolFromSmiles('CCCCCCCCC1=CC=C(C=C1)CCC(CO)(CO)N')\n",
    "    ps = AllChem.ETKDGv2()\n",
    "    mol = Chem.AddHs(mol)\n",
    "    AllChem.EmbedMolecule(mol, ps)\n",
    "    Draw.MolToImage(mol)\n",
    "    '''\n",
    "\n",
    "    w = Chem.SDWriter(path)\n",
    "    conf = mol.GetConformer() # 构象\n",
    "    for i in range(mol.GetNumAtoms()):\n",
    "        x,y,z = new_coords.astype(np.double)[i]\n",
    "        conf.SetAtomPosition(i,Point3D(x,y,z)) # Point3D是rdkit的数据结构\n",
    "    w.write(mol)\n",
    "    w.close()\n",
    "\n",
    "    "
   ]
  },
  {
   "cell_type": "code",
   "execution_count": 28,
   "id": "1f2f6ad7",
   "metadata": {},
   "outputs": [
    {
     "data": {
      "text/plain": [
       "array([[ 1.95084095,  0.49406296,  0.26508254],\n",
       "       [ 0.97169077, -0.59578115,  0.15074153],\n",
       "       [ 1.34652543, -1.68104994, -0.23944786],\n",
       "       [-0.42880705, -0.38605851,  0.49782577],\n",
       "       [-1.33035612, -0.14875486, -0.69514096],\n",
       "       [-2.61603904,  0.03019962, -0.18093428]])"
      ]
     },
     "execution_count": 28,
     "metadata": {},
     "output_type": "execute_result"
    }
   ],
   "source": [
    "import numpy as np\n",
    "d = np.load(r\"C:\\Users\\admin\\Desktop\\temp.npy\", allow_pickle=True)\n",
    "mol = d[0]\n",
    "c = mol.GetConformer()\n",
    "c.GetPositions()"
   ]
  },
  {
   "cell_type": "code",
   "execution_count": 24,
   "id": "cbb40b0e",
   "metadata": {},
   "outputs": [
    {
     "name": "stdout",
     "output_type": "stream",
     "text": [
      "<rdkit.Chem.rdchem.Atom object at 0x0000026374497640>\n",
      "<rdkit.Chem.rdchem.Atom object at 0x0000026312AD99A0>\n",
      "<rdkit.Chem.rdchem.Atom object at 0x0000026374497640>\n",
      "<rdkit.Chem.rdchem.Atom object at 0x0000026312AD99A0>\n",
      "<rdkit.Chem.rdchem.Atom object at 0x0000026374497640>\n",
      "<rdkit.Chem.rdchem.Atom object at 0x0000026312AD99A0>\n"
     ]
    }
   ],
   "source": [
    "Chem.AddHs(mol)\n",
    "for a in mol.GetAtoms():\n",
    "    print(a)"
   ]
  },
  {
   "cell_type": "code",
   "execution_count": 25,
   "id": "2ea78810",
   "metadata": {},
   "outputs": [],
   "source": [
    "w = Chem.SDWriter('temp.sdf')\n",
    "w.write(mol)\n",
    "w.close()"
   ]
  },
  {
   "cell_type": "code",
   "execution_count": 1,
   "id": "72553696",
   "metadata": {},
   "outputs": [],
   "source": [
    "class Struct:\n",
    "    def __init__(self, **entries): \n",
    "        self.__dict__.update(entries)"
   ]
  },
  {
   "cell_type": "code",
   "execution_count": 12,
   "id": "0bca3ddb",
   "metadata": {},
   "outputs": [],
   "source": [
    "import yaml\n",
    "file = open('diffdock_config.yaml', 'r', encoding='utf-8')\n",
    "params = yaml.load(file, Loader=yaml.FullLoader)\n"
   ]
  },
  {
   "cell_type": "code",
   "execution_count": 15,
   "id": "8b258dc3",
   "metadata": {
    "scrolled": true
   },
   "outputs": [
    {
     "data": {
      "text/plain": [
       "16"
      ]
     },
     "execution_count": 15,
     "metadata": {},
     "output_type": "execute_result"
    }
   ],
   "source": [
    "mydict = {'s':2, 'd':4, 'g':16}\n",
    "mydict2 = {'u':2, 'p':4, 'g':8}\n",
    "\n",
    "class Struct():\n",
    "    def __init__(self, **mydict):\n",
    "        self.__dict__.update(mydict)\n",
    "res = Struct(**mydict)\n",
    "res.g\n"
   ]
  },
  {
   "cell_type": "code",
   "execution_count": 53,
   "id": "55e88c50",
   "metadata": {},
   "outputs": [
    {
     "name": "stdout",
     "output_type": "stream",
     "text": [
      "[0.1       0.0125    0.8       0.025     0.0015625 0.05      0.0125\n",
      " 0.2       0.025     0.003125  0.0015625 0.0125    0.00625   0.0015625\n",
      " 0.00625   0.4       0.4       0.003125  0.00625   0.00625  ]\n"
     ]
    },
    {
     "data": {
      "text/plain": [
       "2.0734375000000003"
      ]
     },
     "execution_count": 53,
     "metadata": {},
     "output_type": "execute_result"
    }
   ],
   "source": [
    "x = [2, -2, -1, -2, -1, -1, -2,  3, -2, -1,  1, -1,  0, -2, -2,  0,  2, -3, -2,  0]\n",
    "# x = [-2, -2, -2, -3, -3, -2, -2, -3,  2, -1, -1, -2, -1,  3, -3, -2, -2,  2,,  7 ,-1]\n",
    "x = [ 5,  -2,  -2,  -2,  -1,  -1,  -1,   0,  -2,  -2,  -2,  -1,  -2,  -3,  -1,   2,   0,  -3,  -2,  -1 ]\n",
    "x= [1, -2,  4, -1, -5,  0, -2,  2, -1, -4, -5, -2, -3, -5, -3,  3,  3, -4, -3, -3 ]\n",
    "import numpy as np\n",
    "x = np.array(x).astype(float)\n",
    "# y = x - np.log2(20)\n",
    "# print(y)\n",
    "y = np.power(2, x)*1/20\n",
    "print(y)\n",
    "y.sum()"
   ]
  },
  {
   "cell_type": "code",
   "execution_count": 19,
   "id": "585cf661",
   "metadata": {},
   "outputs": [
    {
     "data": {
      "text/plain": [
       "2.170923110319469"
      ]
     },
     "execution_count": 19,
     "metadata": {},
     "output_type": "execute_result"
    }
   ],
   "source": [
    "(np.exp(x)/20).sum()"
   ]
  },
  {
   "cell_type": "code",
   "execution_count": 50,
   "id": "094a252e",
   "metadata": {},
   "outputs": [
    {
     "data": {
      "text/plain": [
       "0.9999999999999994"
      ]
     },
     "execution_count": 50,
     "metadata": {},
     "output_type": "execute_result"
    }
   ],
   "source": [
    "tt = [0.02079694206276236, 0.002897567987710379, 0.010519851812995572, 0.08515581186430828, 0.006927355325856394, 0.004756139909150473, 0.09306345710548387, 0.05900814247807048, 0.27168967698180374, 0.22999682994032106, 0.014855493448409612, 0.009812270417781793, 0.05153300030079766, 0.006212449154202608, 0.023144108072981524, 0.017494387216227574, 0.07477143978688233, 0.001188986395428325, 0.003255271780847185, 0.012920817957978534, 0.0]\n",
    "sum(tt)\n"
   ]
  },
  {
   "cell_type": "code",
   "execution_count": 27,
   "id": "b33d1903",
   "metadata": {},
   "outputs": [
    {
     "name": "stdout",
     "output_type": "stream",
     "text": [
      "<re.Match object; span=(0, 7), match='      1'>\n"
     ]
    }
   ],
   "source": [
    "import re\n",
    "\n",
    "text = \"      1 M    -1  -2  -3  -3  -1  -2  -3  -3  -3   3   2  -2   4   0  -3  -2  -1  -2  -1   3\"\n",
    "\n",
    "pattern = r'\\s+\\d'\n",
    "matches = re.match(pattern, text)\n",
    "print(matches)\n",
    "# string_part = matches.group(1)\n",
    "# string_part = string_part.strip()  # 去除前导和尾随空格\n",
    "# string_part = string_part.replace(' ', '')  # 去除内部空格\n",
    "# string_part = string_part.upper()  # 转换为大写\n",
    "\n",
    "# # 以下部分与之前的代码一样\n",
    "# integer_part = int(matches.group(2))\n",
    "# space_part = matches.group(3)[:2]\n",
    "# integer_list = list(map(int, re.findall(r'-?\\d+', matches.group(3)[2:])))\n",
    "\n",
    "# print(\"字符串部分:\", string_part)\n",
    "# print(\"整数部分:\", integer_part)\n",
    "# print(\"空格部分:\", space_part)\n",
    "# print(\"后续整数列表:\", integer_list)\n",
    "\n",
    "\n"
   ]
  },
  {
   "cell_type": "code",
   "execution_count": null,
   "id": "ce21d420",
   "metadata": {},
   "outputs": [],
   "source": []
  },
  {
   "cell_type": "code",
   "execution_count": 88,
   "id": "5265e681",
   "metadata": {},
   "outputs": [
    {
     "name": "stdout",
     "output_type": "stream",
     "text": [
      "Final identified special residues: \n",
      " {'A226': 'HIP', 'A264': 'HIP', 'A371': 'HIP', 'A401': 'HIP', 'A424': 'HIP', 'A503': 'HID', 'A546': 'HIP', 'A24': 'GLH'}\n"
     ]
    }
   ],
   "source": [
    "# -*- coding: utf-8 -*-\n",
    "# @Time    : 2023/8/30 14:59\n",
    "# @Author  : TXH\n",
    "# @File    : modify_pdb.py\n",
    "# @Software: PyCharm\n",
    "import copy\n",
    "import os\n",
    "import warnings\n",
    "\n",
    "import numpy as np\n",
    "import re\n",
    "from Bio.PDB import PDBParser, Polypeptide\n",
    "from Bio.PDB.PDBIO import PDBIO\n",
    "\n",
    "\n",
    "def sequence_match(sequence_1, sequence_2):\n",
    "    sequence_matches = []\n",
    "\n",
    "    i = j = 0\n",
    "    count_i = count_j = 0\n",
    "    while i < len(sequence_1) and j < len(sequence_2):\n",
    "        while sequence_1[i] == '-':\n",
    "            i += 1\n",
    "            j += 1\n",
    "            count_i += 1\n",
    "        while sequence_2[j] == '-':\n",
    "            i += 1\n",
    "            j += 1\n",
    "            count_j += 1\n",
    "        #         if sequence_1[i] == sequence_2[j]:\n",
    "        sequence_matches.append((i - count_i + 1, j - count_j + 1))\n",
    "        i += 1\n",
    "        j += 1\n",
    "\n",
    "    return sequence_matches\n",
    "\n",
    "\n",
    "def parse_clustal(file):\n",
    "    pattern = r'\\*'\n",
    "    sequence_pattern = r'^(.*?)\\s+([A-Z-]+)$'\n",
    "\n",
    "    prev_line1 = None\n",
    "    prev_line2 = None\n",
    "\n",
    "    sequence_1 = ''\n",
    "    sequence_2 = ''\n",
    "\n",
    "    with open(file, \"r\") as file:\n",
    "        for line in file:\n",
    "            line = line.strip()\n",
    "            if prev_line1 is not None and prev_line2 is not None:\n",
    "                matches = re.findall(pattern, line)\n",
    "                if matches:\n",
    "                    sequence_1_matches = re.match(sequence_pattern, prev_line1)\n",
    "                    # sequence_1_name = sequence_1_matches.group(1)\n",
    "                    sequence_1 += sequence_1_matches.group(2)\n",
    "                    sequence_2_matches = re.match(sequence_pattern, prev_line2)\n",
    "                    # sequence_2_name = sequence_1_matches.group(1)\n",
    "                    sequence_2 += sequence_2_matches.group(2)\n",
    "            prev_line1 = prev_line2\n",
    "            prev_line2 = line\n",
    "\n",
    "    sequence_matches = sequence_match(sequence_1, sequence_2)\n",
    "    return sequence_1, sequence_2, sequence_matches\n",
    "\n",
    "\n",
    "def gen_1to3():\n",
    "    aa_1to3 = {}\n",
    "    for i in range(20):\n",
    "        aa_1to3[Polypeptide.index_to_one(i)] = Polypeptide.index_to_three(i)\n",
    "    return aa_1to3\n",
    "\n",
    "\n",
    "def parse_pdb(pdb, chainids='ABCDEFGHIJKLMNOPQRST'):\n",
    "    # 读取两个PDB文件\n",
    "    resnames = {}\n",
    "    start_res_ids = {}\n",
    "    parser = PDBParser(QUIET=True)\n",
    "    structure = parser.get_structure('protein', pdb)\n",
    "    model = structure[0]\n",
    "    for i, chain in enumerate(model):\n",
    "        if chain.id == ' ': chain.id = chainids[i]  # 若无链信息，自动按ABCDEFG来补。临时方案\n",
    "        resnames[chain.id] = {}\n",
    "        min_res_id = 1e10\n",
    "        for res in chain:\n",
    "            min_res_id = min(min_res_id, res.id[1])  # minimum residue id\n",
    "            resnames[chain.id][res.id[1]] = res.resname\n",
    "        start_res_ids[chain.id] = min_res_id  # 每条链第一个残基编号\n",
    "    return resnames, start_res_ids\n",
    "\n",
    "\n",
    "def modify_resname(pdb: str,\n",
    "                   residues: dict = None,\n",
    "                   ref_pdb: str = None,\n",
    "                   align: str = None,\n",
    "                   start: int = 1,\n",
    "                   outpdb='new.pdb'):\n",
    "    '''\n",
    "    input:\n",
    "        pdb: file to modify\n",
    "        residues: a dict. key: resid corresponds to pdb (not ref_pdb), value: new_name. information in this parameter has higher priority than ref_pdb.\n",
    "                Mutation should be included in this file. This is the most reliable way.\n",
    "        ref_pdb: user cleaned pdb file with correct residue names\n",
    "        align: single chain MSA alignment file (.clu) between these two pdbs will be used to double check the residue name. only work when ref_pdb is specified. only one chain will be contained\n",
    "        start: first aa in ref_pdb. default is 1. This should be always work with alignment to shift the number\n",
    "        outpdb: name of the output file\n",
    "    output:\n",
    "        outpdb: save new file\n",
    "    '''\n",
    "    aa_1to3 = gen_1to3()  # 残基缩写，dict\n",
    "    alias = {'HIS': ['HIS', 'HIE', 'HID', 'HIP'], 'CYS': ['CYS', 'CYX', 'CYM'], 'ASP': ['ASP', 'ASH'],\n",
    "             'GLU': ['GLU', 'GLH'], 'LYS': ['LYS', 'LYN']}  # special names\n",
    "\n",
    "    resnames, start_res_ids = parse_pdb(pdb)\n",
    "    # do some simple alignments according to the start residue number\n",
    "    if ref_pdb:\n",
    "        ref_resnames, ref_start_res_ids = parse_pdb(ref_pdb)\n",
    "        if align:\n",
    "            _, _, alignments = parse_clustal(align)\n",
    "            alignments = {'A': [(i, j + start - 1) for i, j in alignments]}  # 根据ref_pdb的start对参考序列的编号进行平移。fasta记录序列，氨基酸编号总是从1开始的\n",
    "        else:  # 假设无删除和插入，只有平移，才能使用这部分代码，简单地生成对齐\n",
    "            alignments = {}\n",
    "            for c in start_res_ids:\n",
    "                alignments[c] = []\n",
    "                if c not in ref_start_res_ids: continue\n",
    "                shift = ref_start_res_ids[c] - start_res_ids[c]\n",
    "                [alignments[c].append((i, i + shift)) for i in resnames[c] if i + shift in ref_resnames[c]]\n",
    "\n",
    "        # 整理refpdb中的特殊残基\n",
    "        for c in ref_resnames:\n",
    "            keys = list(ref_resnames[c].keys())\n",
    "            for k in keys:\n",
    "                if ref_resnames[c][k] in list(aa_1to3.values()):\n",
    "                    ref_resnames[c].pop(k)  # 不保留非特殊残基\n",
    "        # print('Special residues found in ref pdb: ', ref_resnames)\n",
    "        # 根据对齐结果来给出新pdb文件中对应位置的残基名称\n",
    "        ref_special_aa_new_id = \\\n",
    "        [{c + str(i): ref_resnames[c][j] for i, j in alignments[c] if j in ref_resnames[c]} for c in resnames if\n",
    "         c in alignments and c in ref_resnames][0]\n",
    "        # print('ref_residues:', ref_special_aa_new_id)\n",
    "\n",
    "    # 将alignments整理为更便于使用的格式\n",
    "    aligns_0to1 = [{c: {j: i for i, j in alignments[c]}} for c in alignments][0]  # old id to new id\n",
    "    aligns_1to0 = [{c: {i: j for i, j in alignments[c]}} for c in alignments][0]  # new d to old id\n",
    "\n",
    "    # 用户自定义的残基名称具有最高的优先权。注意这部分用户自定义残基名称只用于同源建模后的文件中残基重命名，此时编号总是从1开始！！！\n",
    "    if residues:\n",
    "        special_aa_new_id = {cr[0] + str(aligns_0to1[cr[0]][int(cr[1:])]): name for cr, name in residues.items() if\n",
    "                             cr[0] in aligns_0to1}\n",
    "        residues = {**ref_special_aa_new_id, **special_aa_new_id}  # 使用用户指定的残基名称来替换ref_pdb中的名残基名称\n",
    "    else:\n",
    "        residues = ref_special_aa_new_id\n",
    "\n",
    "    print('Final identified special residues: \\n', residues)\n",
    "\n",
    "    # 开始对残基名称进行修改\n",
    "    parser = PDBParser(QUIET=True)\n",
    "    structure = parser.get_structure('protein', pdb)\n",
    "    model = structure[0]\n",
    "    for i, chain in enumerate(model):\n",
    "        if chain.id == ' ': chain.id = chainids[i]  # 若无链信息，自动按ABCDEFG来补。临时方案\n",
    "        for res in chain:\n",
    "            if res.resname == 'MSE':  # 修饰过的氨基酸，改为标准名称\n",
    "                res.resname = 'MET'\n",
    "                continue\n",
    "            id = res.full_id[2] + str(res.id[1])\n",
    "            if id not in residues:\n",
    "                assert res.resname in list(aa_1to3.values()), f'{id}:{res.resname} is not leagal!'\n",
    "                continue\n",
    "            if residues[id] in alias[res.resname]:\n",
    "                res.resname = residues[id]\n",
    "\n",
    "    # 输出对齐后的结构\n",
    "    output = PDBIO()\n",
    "    output.set_structure(structure)\n",
    "    output.save(outpdb)\n",
    "\n",
    "\n",
    "if __name__ == '__main__':\n",
    "    file = r\"C:\\Users\\admin\\Downloads\\MPNN_4ynu_A100D__3.04.B99990001_ligand.pdb\"  # 建模出来的pdb。如果有配体记得先删除配体\n",
    "    ref_pdb = r\"C:\\Users\\admin\\Desktop\\temp0\\4ynu_h.pdb\"\n",
    "    outpdb = r\"C:\\Users\\admin\\Downloads\\test.pdb\"  # 输出文件\n",
    "    # key是链名称+残基序号，value是新的残基名称\n",
    "    residues = {'A228': 'HIP', 'A505': 'HID', 'A548': 'HIP', 'A266': 'HIP', 'A373': 'HIP', 'A403': 'HIP', 'A426': 'HIP',\n",
    "                'A26': 'GLH'}  # 特殊残基名称，需要提前预定义\n",
    "\n",
    "    clu = r\"C:\\Users\\admin\\Documents\\align.clu\"\n",
    "    seq1, seq2, alignments = parse_clustal(clu)\n",
    "\n",
    "    # modify_resname(file, residues=residues, ref_pdb=ref_pdb, outpdb=outpdb)\n",
    "    modify_resname(file, residues=residues, ref_pdb=ref_pdb, align=clu, start=3, outpdb=outpdb)"
   ]
  },
  {
   "cell_type": "code",
   "execution_count": 86,
   "id": "cd3c12b7",
   "metadata": {},
   "outputs": [
    {
     "name": "stdout",
     "output_type": "stream",
     "text": [
      "TTTYDYIVVGGGTSGLVVANRLSENPDVSVLLLEAGASVFNNPDVTNANGYGLAFGSAIDWQYQSINQSYAGGKQQVLRAGKALGGTSTINGMAYTRAEDVQIDVWQKLGNEGWTWKDLLPYYLKSENLTAPTSSQVAAGAAYNPAVNGKEGPLKVGWSGSLASGNLSVALNRTFQAAGVPWVEDVNGGKMRGFNIYPSTLDVDLNVREDAARAYYFPYDDRKNLHLLENTTANRLFWKNGSAEEAIADGVEITSADGKVTRVHAKKEVIISAGALRSPLILELSGVGNPTILKKNNITPRVDLPTVGENLQDQFNNGMAGEGYGVLAGASTVTYPSISDVFGNETDSIVASLRSQLSDYAAATVKVSNGHMKQEDLERLYQLQFDLIVKDKVPIAEILFHPGGGNAVSSEFWGLLPFARGNIHISSNDPTAPAAINPNYFMFEWDGKSQAGIAKYIRKILRSAPLNKLIAKETKPGLSEIPATAADEKWVEWLKANYRSNFHPVGTAAMMPRSIGGVVDNRLRVYGTSNVRVVDASVLPFQVCGHLVSTLYAVAERASDLIKEDAKSA\n",
      "TTTYDYIVVGGGTSGLVVANRLSENPDVSVLLLEAGASVFNNPDVTNANGYGLAFGSAIDWQYQSINQSYAGGKQQVLRAGKALGGTSTINGMAYTRDEDVQIDVWQKLGNEGWTWKDLLPYYLKSENLTAPTSSQVAAGAAYNPAVNGKEGPLKVGWSGSLASGNLSVALNRTFQAAGVPWVEDVNGGKMRGFNIYPSTLDVDLNVREDAARAYYFPYDDRKNLHLLENTTANRLFWKNGSAEEAIADGVEITSADGKVTRVHAKKEVIISAGALRSPLILELSGVGNPTILKKNNITPRVDLPTVGENLQDQFNNGMAGEGYGVLAGASTVTYPSISDVFGNETDSIVASLRSQLSDYAAATVKVSNGHMKQEDLERLYQLQFDLIVKDKVPIAEILFHPGGGNAVSSEFWGLLPFARGNIHISSNDPTAPAAINPNYFMFEWDGKSQAGIAKYIRKILRSAPLNKLIAKETKPGLSEIPATAADEKWVEWLKANYRSNFHPVGTAAMMPRSIGGVVDNRLRVYGTSNVRVVDASVLPFQVCGHLVSTLYAVAERASDLIKEDAKSA\n",
      "[(1, 1), (2, 2), (3, 3), (4, 4), (5, 5), (6, 6), (7, 7), (8, 8), (9, 9), (10, 10), (11, 11), (12, 12), (13, 13), (14, 14), (15, 15), (16, 16), (17, 17), (18, 18), (19, 19), (20, 20), (21, 21), (22, 22), (23, 23), (24, 24), (25, 25), (26, 26), (27, 27), (28, 28), (29, 29), (30, 30), (31, 31), (32, 32), (33, 33), (34, 34), (35, 35), (36, 36), (37, 37), (38, 38), (39, 39), (40, 40), (41, 41), (42, 42), (43, 43), (44, 44), (45, 45), (46, 46), (47, 47), (48, 48), (49, 49), (50, 50), (51, 51), (52, 52), (53, 53), (54, 54), (55, 55), (56, 56), (57, 57), (58, 58), (59, 59), (60, 60), (61, 61), (62, 62), (63, 63), (64, 64), (65, 65), (66, 66), (67, 67), (68, 68), (69, 69), (70, 70), (71, 71), (72, 72), (73, 73), (74, 74), (75, 75), (76, 76), (77, 77), (78, 78), (79, 79), (80, 80), (81, 81), (82, 82), (83, 83), (84, 84), (85, 85), (86, 86), (87, 87), (88, 88), (89, 89), (90, 90), (91, 91), (92, 92), (93, 93), (94, 94), (95, 95), (96, 96), (97, 97), (98, 98), (99, 99), (100, 100), (101, 101), (102, 102), (103, 103), (104, 104), (105, 105), (106, 106), (107, 107), (108, 108), (109, 109), (110, 110), (111, 111), (112, 112), (113, 113), (114, 114), (115, 115), (116, 116), (117, 117), (118, 118), (119, 119), (120, 120), (121, 121), (122, 122), (123, 123), (124, 124), (125, 125), (126, 126), (127, 127), (128, 128), (129, 129), (130, 130), (131, 131), (132, 132), (133, 133), (134, 134), (135, 135), (136, 136), (137, 137), (138, 138), (139, 139), (140, 140), (141, 141), (142, 142), (143, 143), (144, 144), (145, 145), (146, 146), (147, 147), (148, 148), (149, 149), (150, 150), (151, 151), (152, 152), (153, 153), (154, 154), (155, 155), (156, 156), (157, 157), (158, 158), (159, 159), (160, 160), (161, 161), (162, 162), (163, 163), (164, 164), (165, 165), (166, 166), (167, 167), (168, 168), (169, 169), (170, 170), (171, 171), (172, 172), (173, 173), (174, 174), (175, 175), (176, 176), (177, 177), (178, 178), (179, 179), (180, 180), (181, 181), (182, 182), (183, 183), (184, 184), (185, 185), (186, 186), (187, 187), (188, 188), (189, 189), (190, 190), (191, 191), (192, 192), (193, 193), (194, 194), (195, 195), (196, 196), (197, 197), (198, 198), (199, 199), (200, 200), (201, 201), (202, 202), (203, 203), (204, 204), (205, 205), (206, 206), (207, 207), (208, 208), (209, 209), (210, 210), (211, 211), (212, 212), (213, 213), (214, 214), (215, 215), (216, 216), (217, 217), (218, 218), (219, 219), (220, 220), (221, 221), (222, 222), (223, 223), (224, 224), (225, 225), (226, 226), (227, 227), (228, 228), (229, 229), (230, 230), (231, 231), (232, 232), (233, 233), (234, 234), (235, 235), (236, 236), (237, 237), (238, 238), (239, 239), (240, 240), (241, 241), (242, 242), (243, 243), (244, 244), (245, 245), (246, 246), (247, 247), (248, 248), (249, 249), (250, 250), (251, 251), (252, 252), (253, 253), (254, 254), (255, 255), (256, 256), (257, 257), (258, 258), (259, 259), (260, 260), (261, 261), (262, 262), (263, 263), (264, 264), (265, 265), (266, 266), (267, 267), (268, 268), (269, 269), (270, 270), (271, 271), (272, 272), (273, 273), (274, 274), (275, 275), (276, 276), (277, 277), (278, 278), (279, 279), (280, 280), (281, 281), (282, 282), (283, 283), (284, 284), (285, 285), (286, 286), (287, 287), (288, 288), (289, 289), (290, 290), (291, 291), (292, 292), (293, 293), (294, 294), (295, 295), (296, 296), (297, 297), (298, 298), (299, 299), (300, 300), (301, 301), (302, 302), (303, 303), (304, 304), (305, 305), (306, 306), (307, 307), (308, 308), (309, 309), (310, 310), (311, 311), (312, 312), (313, 313), (314, 314), (315, 315), (316, 316), (317, 317), (318, 318), (319, 319), (320, 320), (321, 321), (322, 322), (323, 323), (324, 324), (325, 325), (326, 326), (327, 327), (328, 328), (329, 329), (330, 330), (331, 331), (332, 332), (333, 333), (334, 334), (335, 335), (336, 336), (337, 337), (338, 338), (339, 339), (340, 340), (341, 341), (342, 342), (343, 343), (344, 344), (345, 345), (346, 346), (347, 347), (348, 348), (349, 349), (350, 350), (351, 351), (352, 352), (353, 353), (354, 354), (355, 355), (356, 356), (357, 357), (358, 358), (359, 359), (360, 360), (361, 361), (362, 362), (363, 363), (364, 364), (365, 365), (366, 366), (367, 367), (368, 368), (369, 369), (370, 370), (371, 371), (372, 372), (373, 373), (374, 374), (375, 375), (376, 376), (377, 377), (378, 378), (379, 379), (380, 380), (381, 381), (382, 382), (383, 383), (384, 384), (385, 385), (386, 386), (387, 387), (388, 388), (389, 389), (390, 390), (391, 391), (392, 392), (393, 393), (394, 394), (395, 395), (396, 396), (397, 397), (398, 398), (399, 399), (400, 400), (401, 401), (402, 402), (403, 403), (404, 404), (405, 405), (406, 406), (407, 407), (408, 408), (409, 409), (410, 410), (411, 411), (412, 412), (413, 413), (414, 414), (415, 415), (416, 416), (417, 417), (418, 418), (419, 419), (420, 420), (421, 421), (422, 422), (423, 423), (424, 424), (425, 425), (426, 426), (427, 427), (428, 428), (429, 429), (430, 430), (431, 431), (432, 432), (433, 433), (434, 434), (435, 435), (436, 436), (437, 437), (438, 438), (439, 439), (440, 440), (441, 441), (442, 442), (443, 443), (444, 444), (445, 445), (446, 446), (447, 447), (448, 448), (449, 449), (450, 450), (451, 451), (452, 452), (453, 453), (454, 454), (455, 455), (456, 456), (457, 457), (458, 458), (459, 459), (460, 460), (461, 461), (462, 462), (463, 463), (464, 464), (465, 465), (466, 466), (467, 467), (468, 468), (469, 469), (470, 470), (471, 471), (472, 472), (473, 473), (474, 474), (475, 475), (476, 476), (477, 477), (478, 478), (479, 479), (480, 480), (481, 481), (482, 482), (483, 483), (484, 484), (485, 485), (486, 486), (487, 487), (488, 488), (489, 489), (490, 490), (491, 491), (492, 492), (493, 493), (494, 494), (495, 495), (496, 496), (497, 497), (498, 498), (499, 499), (500, 500), (501, 501), (502, 502), (503, 503), (504, 504), (505, 505), (506, 506), (507, 507), (508, 508), (509, 509), (510, 510), (511, 511), (512, 512), (513, 513), (514, 514), (515, 515), (516, 516), (517, 517), (518, 518), (519, 519), (520, 520), (521, 521), (522, 522), (523, 523), (524, 524), (525, 525), (526, 526), (527, 527), (528, 528), (529, 529), (530, 530), (531, 531), (532, 532), (533, 533), (534, 534), (535, 535), (536, 536), (537, 537), (538, 538), (539, 539), (540, 540), (541, 541), (542, 542), (543, 543), (544, 544), (545, 545), (546, 546), (547, 547), (548, 548), (549, 549), (550, 550), (551, 551), (552, 552), (553, 553), (554, 554), (555, 555), (556, 556), (557, 557), (558, 558), (559, 559), (560, 560), (561, 561), (562, 562), (563, 563), (564, 564), (565, 565), (566, 566), (567, 567), (568, 568), (569, 569)]\n"
     ]
    }
   ],
   "source": [
    "file = r\"C:\\Users\\admin\\Documents\\align.clu\"\n",
    "seq1, seq2, matches = parse_clustal(file)\n",
    "print(seq1) \n",
    "print(seq2)\n",
    "print(matches)"
   ]
  },
  {
   "cell_type": "code",
   "execution_count": 92,
   "id": "eea1aa1a",
   "metadata": {},
   "outputs": [],
   "source": [
    "# 开始对残基名称进行修改\n",
    "pdb = r\"C:\\Users\\admin\\Desktop\\temp0\\4ynu_h.pdb\"  # 建模出来的pdb。如果有配体记得先删除配体\n",
    "outpdb = r\"C:\\Users\\admin\\Desktop\\temp0\\test.pdb\"\n",
    "parser = PDBParser(QUIET=True)\n",
    "structure = parser.get_structure('protein', pdb)\n",
    "model = structure[0]\n",
    "for i, chain in enumerate(model):\n",
    "    if chain.id == ' ': chain.id = 'A'  # 若无链信息，自动按ABCDEFG来补。临时方案\n",
    "    \n",
    "# 输出对齐后的结构\n",
    "output = PDBIO()\n",
    "output.set_structure(structure)\n",
    "output.save(outpdb)"
   ]
  },
  {
   "cell_type": "code",
   "execution_count": 7,
   "id": "384a9d76",
   "metadata": {},
   "outputs": [],
   "source": [
    "from scipy.spatial.transform import Rotation\n",
    "\n",
    "def _compose(r1, r2):  # R1 @ R2 but for Euler vecs\n",
    "    return Rotation.from_matrix(Rotation.from_rotvec(r1).as_matrix() @ Rotation.from_rotvec(r2).as_matrix()).as_rotvec()\n"
   ]
  },
  {
   "cell_type": "code",
   "execution_count": 1,
   "id": "81e12aff",
   "metadata": {},
   "outputs": [
    {
     "name": "stdout",
     "output_type": "stream",
     "text": [
      "[[-0.69492056  0.71352099  0.08929286]\n",
      " [-0.19200697 -0.30378504  0.93319235]\n",
      " [ 0.69297817  0.6313497   0.34810748]]\n",
      "[[-0.47492144 -0.81603782  0.32944181]\n",
      " [ 0.22606924 -0.47492144 -0.85049534]\n",
      " [ 0.85049534 -0.32944181  0.41003142]]\n",
      "[[ 0.56728098  0.19879824 -0.79916929]\n",
      " [ 0.81618752 -0.0064736   0.57775083]\n",
      " [ 0.10968234 -0.98001906 -0.16592899]]\n"
     ]
    }
   ],
   "source": [
    "from scipy.spatial.transform import Rotation\n",
    "r1 = [1,2,3]\n",
    "r2 = [1,-1,2]\n",
    "m1 = Rotation.from_rotvec(r1).as_matrix()\n",
    "m2 = Rotation.from_rotvec(r2).as_matrix()\n",
    "print(m1)\n",
    "print(m2)\n",
    "print(m1@m2)"
   ]
  },
  {
   "cell_type": "code",
   "execution_count": null,
   "id": "7d591335",
   "metadata": {},
   "outputs": [],
   "source": []
  },
  {
   "cell_type": "raw",
   "id": "3fe8a52e",
   "metadata": {},
   "source": []
  }
 ],
 "metadata": {
  "kernelspec": {
   "display_name": "Python 3 (ipykernel)",
   "language": "python",
   "name": "python3"
  },
  "language_info": {
   "codemirror_mode": {
    "name": "ipython",
    "version": 3
   },
   "file_extension": ".py",
   "mimetype": "text/x-python",
   "name": "python",
   "nbconvert_exporter": "python",
   "pygments_lexer": "ipython3",
   "version": "3.7.12"
  }
 },
 "nbformat": 4,
 "nbformat_minor": 5
}
