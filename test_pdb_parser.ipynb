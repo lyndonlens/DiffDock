{
 "cells": [
  {
   "cell_type": "code",
   "execution_count": 183,
   "id": "a0eee4a5",
   "metadata": {
    "scrolled": true
   },
   "outputs": [
    {
     "name": "stdout",
     "output_type": "stream",
     "text": [
      "residue number: 351\n",
      "atom number:  2741\n"
     ]
    },
    {
     "name": "stderr",
     "output_type": "stream",
     "text": [
      "C:\\Users\\admin\\anaconda3\\envs\\chem\\lib\\site-packages\\Bio\\PDB\\PDBParser.py:399: PDBConstructionWarning: Ignoring unrecognized record 'END' at line 2744\n",
      "  PDBConstructionWarning,\n"
     ]
    }
   ],
   "source": [
    "from Bio.PDB import PDBParser\n",
    "file = r\"C:\\Users\\admin\\Downloads\\4v24_rec_noH.pdb\"\n",
    "parser = PDBParser(PERMISSIVE=1)\n",
    "\n",
    "structure = parser.get_structure('4v24', file)\n",
    "from Bio.PDB.Selection import unfold_entities\n",
    "\n",
    "model = structure[0]\n",
    "model.get_full_id()\n",
    "\n",
    "residue_list = unfold_entities(model, 'R')\n",
    "print('residue number:', len(residue_list))\n",
    "from Bio.PDB.NeighborSearch import NeighborSearch\n",
    "from Bio.PDB.Selection import unfold_entities\n",
    "atoms = unfold_entities(structure, 'A')\n",
    "print('atom number: ', len(atoms))"
   ]
  },
  {
   "cell_type": "code",
   "execution_count": 171,
   "id": "dee6e3c3",
   "metadata": {},
   "outputs": [
    {
     "name": "stdout",
     "output_type": "stream",
     "text": [
      "93 PRO\n",
      "94 ARG\n",
      "95 GLY\n",
      "96 VAL\n",
      "97 LEU\n",
      "98 PRO\n",
      "99 ARG\n",
      "100 PRO\n",
      "101 CYS\n",
      "102 ARG\n",
      "103 VAL\n",
      "104 LEU\n",
      "105 VAL\n",
      "106 LEU\n",
      "107 LEU\n",
      "108 ASN\n",
      "109 PRO\n"
     ]
    }
   ],
   "source": [
    "for r in residue_list:\n",
    "    print(r.get_id()[1], r.get_resname())\n",
    "    "
   ]
  },
  {
   "cell_type": "code",
   "execution_count": 181,
   "id": "04bf5be3",
   "metadata": {
    "scrolled": true
   },
   "outputs": [
    {
     "name": "stdout",
     "output_type": "stream",
     "text": [
      "<Vector 29.89, 29.06, 43.18>\n",
      "<Vector 30.05, 29.27, 44.65>\n",
      "<Vector 30.08, 30.40, 45.09>\n",
      "<Vector 30.10, 28.18, 45.38>\n",
      "<Vector 15.34, 26.05, 26.95>\n",
      "<Vector 16.94, 26.92, 27.07>\n",
      "<Vector 26.71, 25.96, 18.42>\n",
      "<Vector 26.96, 24.66, 18.88>\n",
      "<Vector 18.94, 44.01, 30.49>\n",
      "<Vector 18.82, 45.33, 30.98>\n",
      "<Vector 1.90, 31.31, 60.32>\n",
      "<Vector 3.11, 31.31, 61.27>\n",
      "<Vector 2.97, 30.25, 62.35>\n",
      "<Vector 4.44, 31.19, 60.52>\n",
      "<Vector -2.30, 39.78, 58.14>\n",
      "<Vector -2.82, 41.17, 58.41>\n",
      "<Vector -3.69, 41.68, 57.74>\n",
      "<Vector -2.24, 41.76, 59.43>\n",
      "<Vector 7.45, 46.73, 48.31>\n",
      "<Vector 6.27, 47.07, 47.59>\n",
      "<Vector 8.06, 29.22, 62.65>\n",
      "<Vector 7.28, 30.30, 62.19>\n",
      "<Vector 18.31, 19.96, 54.65>\n",
      "<Vector 17.04, 19.87, 54.08>\n"
     ]
    }
   ],
   "source": [
    "for a in atoms:\n",
    "    if a.get_occupancy() < 1.0:\n",
    "        print(a.get_vector())"
   ]
  },
  {
   "cell_type": "code",
   "execution_count": 184,
   "id": "82a3de19",
   "metadata": {
    "scrolled": false
   },
   "outputs": [
    {
     "name": "stdout",
     "output_type": "stream",
     "text": [
      "PRGVLPRPCRVLVLLNPRGGKGKALQLFRSHVQPLLAEAEISFTLMLTERRNHARELVRSEELGRWDALVVMSGDGLMHEVVNGLMERPDWETAIQKPLCSLPAGSGNALAASLNHYAGYEQVTNEDLLTNCTLLLCRRLLSPMNLLSLHTASGLRLFSVLSLAWGFIADVDLESEKYRRLGEMRFTLGTFLRLAALRTYRGRLAYLPVGRVGSKTPAS\n",
      "GPVDAHLVPLEEPVPSHWTVVPDEDFVLVLALLHSHLGSEMFAAPMGRCAAGVMHLFYVRAGVSRAMLLRLFLAMEKGRHMEYECPYLVYVPVVAFRLEPKDGKGVFAVDGELMVSEAVQGQVHPNYFWMVS\n",
      "PRGVLPRPCRVLVLLNPRGGKGKALQLFRSHVQPLLAEAEISFTLMLTERRNHARELVRSEELGRWDALVVMSGDGLMHEVVNGLMERPDWETAIQKPLCSLPAGSGNALAASLNHYAGYEQVTNEDLLTNCTLLLCRRLLSPMNLLSLHTASGLRLFSVLSLAWGFIADVDLESEKYRRLGEMRFTLGTFLRLAALRTYRGRLAYLPVGRVGSKTPAS\n",
      "GPVDAHLVPLEEPVPSHWTVVPDEDFVLVLALLHSHLGSEMFAAPMGRCAAGVMHLFYVRAGVSRAMLLRLFLAMEKGRHMEYECPYLVYVPVVAFRLEPKDGKGVFAVDGELMVSEAVQGQVHPNYFWMVS\n"
     ]
    },
    {
     "name": "stderr",
     "output_type": "stream",
     "text": [
      "C:\\Users\\admin\\anaconda3\\envs\\chem\\lib\\site-packages\\Bio\\PDB\\PDBParser.py:399: PDBConstructionWarning: Ignoring unrecognized record 'END' at line 2744\n",
      "  PDBConstructionWarning,\n"
     ]
    }
   ],
   "source": [
    "\n",
    "from Bio import PDB\n",
    "file = r\"E:\\projects\\DiffDock\\data\\dummy_data\\4v24_rec_noH.pdb\"\n",
    "parser = PDB.PDBParser()\n",
    "structure = parser.get_structure('4v24', file)\n",
    "ppb = PDB.PPBuilder()\n",
    " \n",
    "for pp in ppb.build_peptides(structure):\n",
    "    print (pp.get_sequence())\n",
    "\n",
    "model = structure[0]\n",
    "for pp in ppb.build_peptides(model):\n",
    "    print (pp.get_sequence())\n"
   ]
  },
  {
   "cell_type": "code",
   "execution_count": 195,
   "id": "48064365",
   "metadata": {},
   "outputs": [
    {
     "name": "stdout",
     "output_type": "stream",
     "text": [
      "PRGVLPRPCRVLVLLNPRGGKGKALQLFRSHVQPLLAEAEISFTLMLTERRNHARELVRSEELGRWDALVVMSGDGLMHEVVNGLMERPDWETAIQKPLCSLPAGSGNALAASLNHYAGYEQVTNEDLLTNCTLLLCRRLLSPMNLLSLHTASGLRLFSVLSLAWGFIADVDLESEKYRRLGEMRFTLGTFLRLAALRTYRGRLAYLPVGRVGSKTPAS\n",
      "GPVDAHLVPLEEPVPSHWTVVPDEDFVLVLALLHSHLGSEMFAAPMGRCAAGVMHLFYVRAGVSRAMLLRLFLAMEKGRHMEYECPYLVYVPVVAFRLEPKDGKGVFAVDGELMVSEAVQGQVHPNYFWMVS\n"
     ]
    }
   ],
   "source": [
    "from Bio.PDB import PPBuilder\n",
    "ppb = PPBuilder()\n",
    "for pp in ppb.build_peptides(structure):\n",
    "    print(pp.get_sequence())"
   ]
  }
 ],
 "metadata": {
  "kernelspec": {
   "display_name": "Python 3 (ipykernel)",
   "language": "python",
   "name": "python3"
  },
  "language_info": {
   "codemirror_mode": {
    "name": "ipython",
    "version": 3
   },
   "file_extension": ".py",
   "mimetype": "text/x-python",
   "name": "python",
   "nbconvert_exporter": "python",
   "pygments_lexer": "ipython3",
   "version": "3.7.12"
  }
 },
 "nbformat": 4,
 "nbformat_minor": 5
}
